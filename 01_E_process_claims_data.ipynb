{
 "cells": [
  {
   "cell_type": "code",
   "execution_count": 1,
   "metadata": {},
   "outputs": [],
   "source": [
    "import pandas as pd\n",
    "import pickle\n",
    "import numpy as np"
   ]
  },
  {
   "cell_type": "code",
   "execution_count": null,
   "metadata": {},
   "outputs": [],
   "source": [
    "icd_df = pd.read_csv('./data/filtered_icd.csv')"
   ]
  },
  {
   "cell_type": "code",
   "execution_count": null,
   "metadata": {},
   "outputs": [
    {
     "name": "stdout",
     "output_type": "stream",
     "text": [
      "1718\n"
     ]
    }
   ],
   "source": [
    "unique_icd = list(icd_df['icd'].unique())\n",
    "unique_icd.sort()\n",
    "print(len(unique_icd))\n",
    "pickle.dump(unique_icd, open('./data/filtered_icd.pkl', 'wb'))"
   ]
  },
  {
   "cell_type": "code",
   "execution_count": 5,
   "metadata": {},
   "outputs": [],
   "source": [
    "# Convert each year's data to dict {npi: vector}\n",
    "unique_icd = list(icd_df['icd'].unique())\n",
    "unique_icd.sort()\n",
    "for year in range(2016, 2021):\n",
    "    cur_df = icd_df[icd_df['year'] == year]\n",
    "    cur_df = cur_df.pivot(index='npi', columns='icd', values='cnt')\n",
    "    # Add the missing columns\n",
    "    missing_icd = list(set(unique_icd) - set(cur_df.columns))\n",
    "    cur_df = cur_df.reindex(columns=sorted(cur_df.columns.tolist() + missing_icd))\n",
    "    cur_df = cur_df.fillna(0)\n",
    "    \n",
    "    # Convert to dict of arrays\n",
    "    cur_dict = {}\n",
    "    for npi in cur_df.index:\n",
    "        cur_dict[npi] = np.array(cur_df.loc[npi])\n",
    "    pickle.dump(cur_dict, open('../data/icd_dict_{}.pkl'.format(year), 'wb'))"
   ]
  },
  {
   "cell_type": "code",
   "execution_count": 10,
   "metadata": {},
   "outputs": [],
   "source": [
    "icd_list = list(cur_df.columns)\n",
    "pickle.dump(icd_list, open('../data/icd_list.pkl', 'wb'))"
   ]
  },
  {
   "cell_type": "code",
   "execution_count": null,
   "metadata": {},
   "outputs": [],
   "source": [
    "cpt_df = pd.read_csv('./data/filtered_cpt.csv')\n",
    "unique_cpt = list(cpt_df['cpt'].unique())\n",
    "unique_cpt.sort()\n",
    "for year in range(2016, 2021):\n",
    "    cur_df = cpt_df[cpt_df['year'] == year]\n",
    "    cur_df = cur_df.pivot(index='npi', columns='cpt', values='cnt')\n",
    "    missing_cpt = list(set(unique_cpt) - set(cur_df.columns))\n",
    "    cur_df = cur_df.reindex(columns=sorted(cur_df.columns.tolist() + missing_cpt))\n",
    "    cur_df = cur_df.fillna(0)\n",
    "    cur_dict = {}\n",
    "    for npi in cur_df.index:\n",
    "        cur_dict[npi] = np.array(cur_df.loc[npi])\n",
    "    pickle.dump(cur_dict, open('./data/cpt_dict_{}.pkl'.format(year), 'wb'))"
   ]
  },
  {
   "cell_type": "code",
   "execution_count": null,
   "metadata": {},
   "outputs": [],
   "source": []
  }
 ],
 "metadata": {
  "kernelspec": {
   "display_name": "base",
   "language": "python",
   "name": "python3"
  },
  "language_info": {
   "codemirror_mode": {
    "name": "ipython",
    "version": 3
   },
   "file_extension": ".py",
   "mimetype": "text/x-python",
   "name": "python",
   "nbconvert_exporter": "python",
   "pygments_lexer": "ipython3",
   "version": "3.9.13"
  },
  "orig_nbformat": 4
 },
 "nbformat": 4,
 "nbformat_minor": 2
}
