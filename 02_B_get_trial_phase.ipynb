{
 "cells": [
  {
   "cell_type": "code",
   "execution_count": 1,
   "metadata": {},
   "outputs": [],
   "source": [
    "import pandas as pd\n",
    "import pickle\n",
    "import numpy as np\n",
    "import xml.etree.cElementTree as ET\n",
    "import os\n",
    "import re\n",
    "from tqdm import tqdm\n",
    "import csv\n",
    "import requests"
   ]
  },
  {
   "cell_type": "code",
   "execution_count": null,
   "metadata": {},
   "outputs": [],
   "source": [
    "payment = pickle.load(open('./data/payment_dict.pkl', 'rb'))\n",
    "trial2npi = pickle.load(open('./data/trial2npi.pkl', 'rb'))\n",
    "trial_list = list(trial2npi.keys())"
   ]
  },
  {
   "cell_type": "code",
   "execution_count": 3,
   "metadata": {},
   "outputs": [],
   "source": [
    "def process_trial(path):\n",
    "    cur_trial = ET.ElementTree(file=path)\n",
    "\n",
    "    if cur_trial.find('phase') == None:\n",
    "        cur_phase = None\n",
    "    else:\n",
    "        cur_phase = cur_trial.find('phase').text\n",
    "    \n",
    "    return cur_phase    "
   ]
  },
  {
   "cell_type": "code",
   "execution_count": 4,
   "metadata": {},
   "outputs": [],
   "source": [
    "def process_trial_enroll(path):\n",
    "    cur_trial = ET.ElementTree(file=path)\n",
    "\n",
    "    if cur_trial.find('enrollment') == None:\n",
    "        cur_phase = None\n",
    "    else:\n",
    "        cur_phase = cur_trial.find('enrollment').text\n",
    "    \n",
    "    return cur_phase    "
   ]
  },
  {
   "cell_type": "code",
   "execution_count": 5,
   "metadata": {},
   "outputs": [],
   "source": [
    "def process_trial_country(path):\n",
    "    tree = ET.parse(path)\n",
    "    root = tree.getroot()\n",
    "    \n",
    "    countries = []\n",
    "    for country in root.findall('.//location_countries/country'):\n",
    "        countries.append(country.text)\n",
    "    \n",
    "    return countries"
   ]
  },
  {
   "cell_type": "code",
   "execution_count": null,
   "metadata": {},
   "outputs": [
    {
     "name": "stderr",
     "output_type": "stream",
     "text": [
      "589it [00:39, 14.89it/s]\n"
     ]
    }
   ],
   "source": [
    "trial_dict = {}\n",
    "country_cnt = {}\n",
    "for path, subdirs, files in tqdm(os.walk('./data/AllPublicXML/')):\n",
    "    for name in files:\n",
    "        if name[:-4] in trial_list:\n",
    "            cur_trial = os.path.join(path, name)\n",
    "            cur_res = process_trial_country(cur_trial)\n",
    "            trial_dict[name[:-4]] = cur_res\n",
    "            for country in cur_res:\n",
    "                if country not in country_cnt:\n",
    "                    country_cnt[country] = 1\n",
    "                else:\n",
    "                    country_cnt[country] += 1\n",
    "        else:\n",
    "            continue\n"
   ]
  },
  {
   "cell_type": "code",
   "execution_count": 16,
   "metadata": {},
   "outputs": [
    {
     "name": "stdout",
     "output_type": "stream",
     "text": [
      "NCT00259428 ['Belgium', 'Czech Republic', 'Denmark', 'Finland', 'France', 'Germany', 'Hungary', 'Italy', 'Netherlands', 'Poland', 'Spain', 'United Kingdom']\n",
      "NCT00883337 ['Belgium', 'Canada', 'Czech Republic', 'France', 'Germany', 'Greece', 'Hungary', 'Italy', 'Poland', 'Spain', 'Switzerland', 'Tunisia', 'United Kingdom']\n",
      "NCT01207440 ['Australia', 'Belgium', 'France', 'Germany', 'Italy', 'Korea, Republic of', 'Netherlands', 'Singapore', 'Spain', 'Sweden', 'United Kingdom']\n",
      "NCT01344096 ['Israel']\n",
      "NCT01374516 ['Brazil', 'Colombia', 'Honduras', 'Mexico', 'Puerto Rico']\n",
      "NCT01385657 ['Australia', 'Germany', 'New Zealand']\n",
      "NCT01424670 ['Estonia', 'Latvia', 'Lithuania', 'Moldova, Republic of', 'Peru', 'Philippines', 'South Africa']\n",
      "NCT01469013 ['Japan']\n",
      "NCT01487096 ['Canada', 'France']\n",
      "NCT01548404 ['Czechia', 'France', 'Germany', 'Hungary', 'Poland']\n",
      "NCT01576029 ['Brazil']\n",
      "NCT01624233 ['Japan']\n",
      "NCT01632163 ['China', 'India', 'Korea, Republic of', 'Russian Federation']\n",
      "NCT01651637 ['United Kingdom']\n",
      "NCT01689142 ['Japan']\n",
      "NCT01700543 ['Austria', 'France', 'Germany', 'Italy', 'United Kingdom']\n",
      "NCT01705080 ['Australia', 'France', 'Germany', 'Greece', 'Italy', 'Netherlands', 'New Zealand', 'Norway', 'Spain', 'Sweden', 'United Kingdom']\n",
      "NCT01802788 ['Australia', 'Belgium', 'Canada', 'Denmark', 'France', 'Germany', 'Israel', 'Italy', 'Lithuania', 'Netherlands', 'Spain', 'Switzerland', 'United Kingdom']\n",
      "NCT01897480 ['Denmark', 'France', 'Germany', 'Italy', 'Korea, Republic of', 'Netherlands', 'Spain', 'Taiwan', 'United Kingdom']\n",
      "NCT01909934 ['Belgium', 'Croatia', 'Czechia', 'Hungary', 'Poland', 'Portugal', 'Romania', 'Spain', 'Turkey', 'United Kingdom']\n",
      "NCT01920503 ['Italy']\n",
      "NCT01930357 ['Philippines']\n",
      "NCT01982955 ['China', 'Italy', 'Korea, Republic of', 'Malaysia', 'Singapore', 'Spain', 'Taiwan']\n",
      "NCT01990534 ['Czechia', 'Germany', 'Malaysia', 'Poland', 'Spain', 'Thailand', 'Turkey']\n",
      "NCT02008318 ['Germany', 'Italy', 'Spain']\n",
      "NCT02013271 ['Austria', 'Belgium', 'France', 'Germany', 'Switzerland']\n",
      "NCT02115373 ['Germany']\n",
      "NCT02156804 ['Austria', 'Belgium', 'Czechia', 'Finland', 'Germany', 'Greece', 'Hungary', 'Ireland', 'Italy', 'Luxembourg', 'Netherlands', 'Norway', 'Poland', 'Portugal', 'Romania', 'Russian Federation', 'Spain', 'Sweden', 'Switzerland', 'United Kingdom']\n",
      "NCT02159612 ['Denmark']\n",
      "NCT02159638 ['Sweden']\n",
      "NCT02159794 ['Canada']\n",
      "NCT02159820 ['China']\n",
      "NCT02159911 ['Lebanon']\n",
      "NCT02159937 ['Brazil']\n",
      "NCT02159963 ['Denmark']\n",
      "NCT02160080 ['Taiwan']\n",
      "NCT02160691 ['Canada']\n",
      "NCT02161029 ['Sweden']\n",
      "NCT02162667 ['Argentina', 'Belarus', 'Bosnia and Herzegovina', 'Chile', 'France', 'Georgia', 'Hungary', 'India', 'Italy', 'Japan', 'Latvia', 'Mexico', 'Peru', 'Philippines', 'Poland', 'Portugal', 'Romania', 'Russian Federation', 'South Africa', 'Spain', 'Taiwan', 'Ukraine']\n",
      "NCT02178358 ['China', 'Hong Kong', 'Korea, Republic of', 'Taiwan', 'Thailand']\n",
      "NCT02179970 ['United Kingdom']\n",
      "NCT02219256 ['United Kingdom']\n",
      "NCT02219490 ['Algeria', 'Australia', 'Austria', 'Belgium', 'Bulgaria', 'Canada', 'Denmark', 'Finland', 'France', 'Germany', 'Greece', 'Ireland', 'Israel', 'Italy', 'Mexico', 'Netherlands', 'Norway', 'Poland', 'Portugal', 'Romania', 'Russian Federation', 'Saudi Arabia', 'Spain', 'Sweden', 'Switzerland', 'Turkey', 'United Kingdom']\n",
      "NCT02235922 ['Brazil']\n",
      "NCT02235935 ['Israel']\n",
      "NCT02260804 ['Korea, Republic of']\n",
      "NCT02265705 ['Argentina', 'Brazil', 'China']\n",
      "NCT02294461 ['China', 'Hong Kong', 'Korea, Republic of', 'Taiwan']\n",
      "NCT02338375 ['Korea, Republic of']\n",
      "NCT02377752 ['Japan']\n",
      "NCT02407756 ['Canada', 'Czechia', 'Germany', 'Hungary', 'Poland', 'United Kingdom']\n",
      "NCT02410213 ['Poland', 'Russian Federation']\n",
      "NCT02421510 ['Austria', 'Belgium', 'Bulgaria', 'France', 'Germany', 'Hungary', 'Israel', 'Italy', 'Lithuania', 'Netherlands', 'Poland', 'Romania', 'Slovakia', 'Spain', 'Sweden', 'Switzerland', 'United Kingdom']\n",
      "NCT02485691 ['Austria', 'Belgium', 'Czechia', 'France', 'Germany', 'Greece', 'Iceland', 'Ireland', 'Italy', 'Netherlands', 'Norway', 'Spain', 'United Kingdom']\n",
      "NCT02497612 ['Benin', 'Burkina Faso', 'Gabon', 'Kenya', 'Mozambique', 'Uganda', 'Vietnam']\n",
      "NCT02549352 ['Germany']\n",
      "NCT02560688 ['United Kingdom']\n",
      "NCT02561806 ['Austria', 'Belgium', 'Canada', 'France', 'Germany', 'Hungary', 'Italy', 'Netherlands', 'Poland', 'Spain', 'Sweden', 'Switzerland', 'United Kingdom']\n",
      "NCT02585674 ['Germany', 'United Kingdom']\n",
      "NCT02587221 ['Bulgaria', 'Colombia', 'Czechia', 'Estonia', 'Latvia', 'Lithuania', 'Malaysia', 'Philippines', 'Poland', 'Romania', 'Thailand', 'Turkey']\n",
      "NCT02605993 ['Canada', 'France', 'Germany', 'Korea, Republic of', 'Spain', 'Taiwan', 'United Kingdom']\n",
      "NCT02633800 ['Belgium', 'France', 'Germany', 'Hungary', 'Poland', 'Romania', 'United Kingdom']\n",
      "NCT02634801 ['Germany']\n",
      "NCT02660359 ['Argentina', 'Australia', 'Belgium', 'Brazil', 'Chile', 'Colombia', 'France', 'Germany', 'Israel', 'Lithuania', 'Mexico', 'Peru', 'Russian Federation', 'Spain', 'Ukraine', 'United Kingdom']\n",
      "NCT02678923 ['Canada', 'Czechia', 'Hungary', 'Netherlands', 'Poland']\n",
      "NCT02684864 ['United Kingdom']\n",
      "NCT02706496 ['Taiwan']\n",
      "NCT02711228 ['Canada']\n",
      "NCT02755649 ['Austria', 'Belgium', 'Germany', 'Ireland', 'Netherlands', 'Poland', 'Russian Federation', 'Slovakia', 'Spain', 'United Kingdom']\n",
      "NCT02955797 ['Finland', 'Germany', 'Hungary', 'Spain']\n",
      "NCT02959190 ['Japan']\n",
      "NCT02966756 ['Australia', 'China', 'New Zealand', 'Taiwan']\n",
      "NCT02967211 ['Brazil', 'Finland', 'France', 'Greece', 'Ireland', 'Italy', 'Romania', 'Spain', 'Switzerland', 'United Kingdom']\n",
      "NCT02967224 ['Brazil', 'France', 'Germany', 'Ireland', 'Romania', 'Spain', 'United Kingdom']\n",
      "NCT02979431 ['Belgium', 'Bulgaria', 'Chile', 'Colombia', 'Croatia', 'Czechia', 'Estonia', 'Germany', 'Hungary', 'Israel', 'Latvia', 'Malaysia', 'Philippines', 'Poland', 'Slovakia', 'Spain', 'Thailand']\n",
      "NCT02980731 ['Argentina', 'Australia', 'Bulgaria', 'Hong Kong', 'Hungary', 'Mexico', 'New Zealand', 'Poland', 'Russian Federation', 'Taiwan']\n",
      "NCT02984683 ['Belgium', 'Czechia', 'Italy', 'Netherlands', 'Spain']\n",
      "NCT02991469 ['Argentina', 'Bulgaria', 'Canada', 'Finland', 'France', 'Germany', 'Ireland', 'Italy', 'Russian Federation', 'Spain', 'United Kingdom']\n",
      "NCT02991495 ['Kenya', 'Uganda']\n",
      "NCT03002376 ['Korea, Republic of', 'Netherlands', 'Serbia', 'United Kingdom']\n",
      "NCT03027284 ['Japan']\n",
      "NCT03030066 ['Japan']\n",
      "NCT03056573 ['Denmark', 'Germany', 'Italy', 'Netherlands', 'Switzerland']\n",
      "NCT03086239 ['Japan']\n",
      "NCT03088540 ['Australia', 'Belarus', 'Brazil', 'Bulgaria', 'Chile', 'China', 'Colombia', 'Czechia', 'Georgia', 'Greece', 'Hungary', 'Jordan', 'Lebanon', 'Malaysia', 'Mexico', 'Philippines', 'Poland', 'Romania', 'Russian Federation', 'Spain', 'Taiwan', 'Thailand', 'Turkey', 'Ukraine']\n",
      "NCT03151551 ['Argentina', 'Australia', 'Austria', 'Belgium', 'Canada', 'Denmark', 'Finland', 'France', 'Germany', 'Hungary', 'India', 'Israel', 'Italy', 'Mexico', 'Netherlands', 'Poland', 'South Africa', 'Spain', 'Sweden', 'Switzerland', 'Ukraine', 'United Kingdom']\n",
      "NCT03165617 ['Australia', 'Estonia', 'Finland', 'Lithuania', 'Philippines', 'Poland', 'Spain', 'Thailand']\n",
      "NCT03198130 ['Korea, Republic of', 'United Kingdom']\n",
      "NCT03206918 ['China']\n",
      "NCT03206970 ['China']\n",
      "NCT03218995 ['Belgium', 'France', 'Italy', 'United Kingdom']\n",
      "NCT03233139 ['Japan']\n",
      "NCT03255083 ['Taiwan']\n",
      "NCT03290131 ['Belarus', 'Bosnia and Herzegovina', 'Bulgaria', 'Croatia', 'Moldova, Republic of', 'Poland', 'Serbia']\n",
      "NCT03311464 ['Japan']\n",
      "NCT03332173 ['China']\n",
      "NCT03333915 ['China']\n",
      "NCT03334396 ['Czechia', 'Denmark', 'France', 'Germany', 'India', 'Italy', 'Japan', 'Mexico', 'Russian Federation', 'Taiwan']\n",
      "NCT03334422 ['Argentina', 'Australia', 'Austria', 'Hungary', 'Israel', 'Japan', 'Korea, Republic of', 'Poland', 'Spain', 'Switzerland']\n",
      "NCT03334435 ['Argentina', 'Australia', 'Austria', 'Czechia', 'Denmark', 'France', 'Germany', 'Hungary', 'India', 'Israel', 'Italy', 'Japan', 'Korea, Republic of', 'Mexico', 'Poland', 'Russian Federation', 'Spain', 'Switzerland', 'Taiwan']\n",
      "NCT03355742 ['Austria', 'Belgium', 'China', 'Germany', 'Hong Kong', 'Italy', 'Netherlands', 'Portugal', 'Singapore', 'Spain', 'Switzerland', 'Taiwan', 'United Kingdom']\n",
      "NCT03364309 ['China']\n",
      "NCT03368664 ['Austria', 'Belgium', 'France', 'Italy', 'Netherlands', 'Poland', 'Portugal', 'Russian Federation', 'Turkey', 'United Kingdom']\n",
      "NCT03419897 ['China', 'France', 'Germany', 'Italy', 'Poland', 'Spain', 'Taiwan', 'United Kingdom']\n",
      "NCT03493451 ['Canada', 'China', 'France', 'Germany', 'Italy', 'Taiwan']\n",
      "NCT03510715 ['Brazil', 'Canada', 'Denmark', 'Mexico', 'Netherlands', 'Russian Federation', 'Slovenia', 'Spain', 'Taiwan', 'Turkey']\n",
      "NCT03575065 ['China']\n",
      "NCT03610750 ['Mozambique']\n",
      "NCT03654976 ['Hungary', 'Poland', 'United Kingdom']\n",
      "NCT03686969 ['Russian Federation']\n",
      "NCT03689374 ['Bosnia and Herzegovina', 'Bulgaria', 'Croatia', 'Czechia', 'Estonia', 'Germany', 'Greece', 'Hungary', 'India', 'Latvia', 'Lithuania', 'North Macedonia', 'Poland', 'Portugal', 'Romania', 'Serbia', 'Slovakia', 'Slovenia', 'South Africa', 'Spain', 'Turkey']\n",
      "NCT03724812 ['Denmark', 'Italy', 'Switzerland', 'United Kingdom']\n",
      "NCT03733301 ['Argentina', 'Australia', 'Austria', 'Germany', 'Italy', 'Japan', 'Korea, Republic of', 'Poland', 'Spain', 'Taiwan']\n",
      "NCT03736889 ['China']\n",
      "NCT03740295 ['Spain']\n",
      "NCT03740308 ['Syrian Arab Republic']\n",
      "NCT03740321 ['Turkey']\n",
      "NCT03740347 ['France']\n",
      "NCT03740360 ['Spain']\n",
      "NCT03740373 ['United Kingdom']\n",
      "NCT03740399 ['Turkey']\n",
      "NCT03740412 ['United Kingdom']\n",
      "NCT03752866 ['Australia', 'Belgium', 'Czechia', 'Germany', 'Italy', 'Poland', 'Spain', 'Switzerland', 'United Kingdom']\n",
      "NCT03773978 ['Argentina', 'Australia', 'Austria', 'Belgium', 'Brazil', 'China', 'Czechia', 'Denmark', 'France', 'Germany', 'India', 'Israel', 'Italy', 'Japan', 'Mexico', 'Poland', 'Russian Federation', 'Spain', 'Turkey', 'United Kingdom']\n",
      "NCT03778944 ['Egypt']\n",
      "NCT03778970 ['Brazil']\n",
      "NCT03778983 ['China']\n",
      "NCT03779009 ['Belgium']\n",
      "NCT03779022 ['China']\n",
      "NCT03779061 ['China']\n",
      "NCT03779074 ['Taiwan']\n",
      "NCT03779087 ['Taiwan']\n",
      "NCT03779100 ['China']\n",
      "NCT03793712 ['Bulgaria', 'Czechia', 'Estonia', 'Germany', 'Hungary', 'Latvia', 'Poland', 'Ukraine']\n",
      "NCT03841448 ['Canada', 'France', 'Malaysia', 'Philippines', 'Singapore', 'Spain', 'Sweden', 'Taiwan', 'United Kingdom']\n",
      "NCT03861039 ['Japan']\n",
      "NCT03861052 ['Japan']\n",
      "NCT03874013 ['Japan']\n",
      "NCT03890809 ['Czechia', 'Hungary', 'Slovakia']\n",
      "NCT03924427 ['Japan']\n",
      "NCT03924986 ['China', 'Taiwan', 'Thailand']\n",
      "NCT03932682 ['Bulgaria', 'Czechia', 'Estonia', 'Honduras', 'Latvia', 'Malaysia', 'New Zealand', 'Pakistan', 'Philippines', 'Poland', 'Romania', 'South Africa', 'Thailand', 'Ukraine']\n",
      "NCT03942042 ['Japan']\n",
      "NCT03945019 ['Poland']\n",
      "NCT03946748 ['Hong Kong', 'Hungary', 'Korea, Republic of', 'Malaysia', 'United Kingdom']\n",
      "NCT03951753 ['Germany']\n",
      "NCT03957590 ['China']\n",
      "NCT04093752 ['Australia', 'China', 'India', 'Korea, Republic of']\n",
      "NCT04118088 ['Austria', 'Czechia', 'France', 'Germany', 'Israel', 'Spain']\n",
      "NCT04167462 ['China', 'Korea, Republic of', 'Taiwan']\n",
      "NCT04171713 ['Brazil']\n",
      "NCT04171726 ['Netherlands']\n",
      "NCT04186858 ['United Kingdom']\n",
      "NCT04231331 ['Korea, Republic of']\n",
      "NCT04231344 ['Egypt']\n",
      "NCT04280081 ['China']\n",
      "NCT04285229 ['China']\n",
      "NCT04379635 ['China']\n",
      "NCT04469621 ['Argentina', 'Brazil', 'Chile', 'Mexico', 'Russian Federation']\n",
      "NCT04477486 ['Japan']\n",
      "NCT04517253 ['Japan']\n",
      "NCT04594694 ['Australia', 'Austria', 'Belgium', 'Croatia', 'Czechia', 'Estonia', 'France', 'Germany', 'Greece', 'Hungary', 'Ireland', 'Israel', 'Korea, Republic of', 'Lithuania', 'Netherlands', 'Norway', 'Poland', 'Spain', 'Sweden', 'United Kingdom']\n",
      "NCT04732494 ['China', 'France', 'Korea, Republic of', 'Spain', 'Taiwan', 'Thailand']\n",
      "NCT04782323 ['Australia', 'New Zealand', 'Philippines', 'South Africa']\n",
      "NCT04804254 ['Israel', 'Puerto Rico', 'Turkey']\n",
      "NCT04921358 ['Australia', 'China']\n"
     ]
    }
   ],
   "source": [
    "for each_trial in trial_dict:\n",
    "    if 'United States' not in trial_dict[each_trial] and len(trial_dict[each_trial]) > 0:\n",
    "        print(each_trial,trial_dict[each_trial])"
   ]
  },
  {
   "cell_type": "code",
   "execution_count": 17,
   "metadata": {},
   "outputs": [
    {
     "data": {
      "text/plain": [
       "['1114922945', '1235515313', '1730137407', '1417976267', '1710945068']"
      ]
     },
     "execution_count": 17,
     "metadata": {},
     "output_type": "execute_result"
    }
   ],
   "source": [
    "trial2npi['NCT00259428']"
   ]
  },
  {
   "cell_type": "code",
   "execution_count": null,
   "metadata": {},
   "outputs": [],
   "source": [
    "npi_info = pickle.load(open('./data/npi_info_dict.pkl', 'rb'))"
   ]
  },
  {
   "cell_type": "code",
   "execution_count": 21,
   "metadata": {},
   "outputs": [
    {
     "name": "stdout",
     "output_type": "stream",
     "text": [
      "Canada\n",
      "Canada\n",
      "Chile\n",
      "Canada\n",
      "Argentina\n",
      "Great Britain (Uk)\n",
      "Great Britain (Uk)\n",
      "Korea (Republic of)\n"
     ]
    }
   ],
   "source": [
    "for npi in npi_info:\n",
    "    if npi_info[npi]['Country'] != 'United States':\n",
    "        print(npi_info[npi]['Country'])"
   ]
  },
  {
   "cell_type": "code",
   "execution_count": null,
   "metadata": {},
   "outputs": [
    {
     "name": "stderr",
     "output_type": "stream",
     "text": [
      "589it [00:33, 17.47it/s]\n"
     ]
    }
   ],
   "source": [
    "trial_dict = {}\n",
    "for path, subdirs, files in tqdm(os.walk('./data/AllPublicXML/')):\n",
    "    for name in files:\n",
    "        if name[:-4] in trial_list:\n",
    "            cur_trial = os.path.join(path, name)\n",
    "            cur_res = process_trial(cur_trial)\n",
    "            trial_dict[name[:-4]] = cur_res\n",
    "        else:\n",
    "            continue\n"
   ]
  },
  {
   "cell_type": "code",
   "execution_count": null,
   "metadata": {},
   "outputs": [],
   "source": [
    "pickle.dump(trial_dict, open('./data/trial_phase.pkl', 'wb'))"
   ]
  },
  {
   "cell_type": "code",
   "execution_count": null,
   "metadata": {},
   "outputs": [
    {
     "name": "stderr",
     "output_type": "stream",
     "text": [
      "589it [00:42, 13.94it/s]\n"
     ]
    }
   ],
   "source": [
    "trial_dict = {}\n",
    "for path, subdirs, files in tqdm(os.walk('./data/AllPublicXML/')):\n",
    "    for name in files:\n",
    "        if name[:-4] in trial_list:\n",
    "            cur_trial = os.path.join(path, name)\n",
    "            cur_res = process_trial_enroll(cur_trial)\n",
    "            trial_dict[name[:-4]] = cur_res\n",
    "        else:\n",
    "            continue"
   ]
  },
  {
   "cell_type": "code",
   "execution_count": null,
   "metadata": {},
   "outputs": [],
   "source": [
    "trial_info = pickle.load(open('./data/trial_info.pkl', 'rb'))"
   ]
  },
  {
   "cell_type": "code",
   "execution_count": null,
   "metadata": {},
   "outputs": [],
   "source": [
    "pickle.dump(trial_dict, open('./data/trial_enroll.pkl', 'wb'))"
   ]
  },
  {
   "cell_type": "code",
   "execution_count": 7,
   "metadata": {},
   "outputs": [],
   "source": [
    "def get_icd_category(icd_code):\n",
    "    # C00-D49: Oncology\n",
    "    # I00-I99: Cardiology\n",
    "    # G00-G99 : Neurology\n",
    "    # E00-E89 : Endocrinology\n",
    "    # A00-B99 : Infectious Disease\n",
    "    first_three = icd_code[:3]\n",
    "    if first_three >= 'C00' and first_three <= 'D49':\n",
    "        return 'Oncology'\n",
    "    elif first_three >= 'I00' and first_three <= 'I99':\n",
    "        return 'Cardiology'\n",
    "    elif first_three >= 'G00' and first_three <= 'G99':\n",
    "        return 'Neurology'\n",
    "    elif first_three >= 'E00' and first_three <= 'E89':\n",
    "        return 'Endocrinology'\n",
    "    elif first_three >= 'A00' and first_three <= 'B99':\n",
    "        return 'Infectious Disease'\n",
    "    else:\n",
    "        return 'Other'"
   ]
  },
  {
   "cell_type": "code",
   "execution_count": 16,
   "metadata": {},
   "outputs": [],
   "source": [
    "trial2category = {}\n",
    "for each_trial in trial_info:\n",
    "    cur_cond = trial_info[each_trial]['condition']\n",
    "    flag = False\n",
    "    for each_cond in cur_cond:\n",
    "        cur_cate = get_icd_category(each_cond)\n",
    "        if cur_cate != 'Other':\n",
    "            trial2category[each_trial] = cur_cate\n",
    "            flag = True\n",
    "            break\n",
    "# Get statistics\n",
    "category_count = {}\n",
    "for each_trial in trial2category:\n",
    "    cur_cate = trial2category[each_trial]\n",
    "    if cur_cate in category_count:\n",
    "        category_count[cur_cate] += 1\n",
    "    else:\n",
    "        category_count[cur_cate] = 1\n",
    "    "
   ]
  },
  {
   "cell_type": "code",
   "execution_count": null,
   "metadata": {},
   "outputs": [],
   "source": [
    "category_count\n",
    "pickle.dump(trial2category, open('./data/trial2category.pkl', 'wb'))"
   ]
  },
  {
   "cell_type": "code",
   "execution_count": null,
   "metadata": {},
   "outputs": [],
   "source": []
  }
 ],
 "metadata": {
  "kernelspec": {
   "display_name": "base",
   "language": "python",
   "name": "python3"
  },
  "language_info": {
   "codemirror_mode": {
    "name": "ipython",
    "version": 3
   },
   "file_extension": ".py",
   "mimetype": "text/x-python",
   "name": "python",
   "nbconvert_exporter": "python",
   "pygments_lexer": "ipython3",
   "version": "3.9.13"
  },
  "orig_nbformat": 4
 },
 "nbformat": 4,
 "nbformat_minor": 2
}
