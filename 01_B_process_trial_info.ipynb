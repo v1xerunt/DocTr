{
 "cells": [
  {
   "cell_type": "code",
   "execution_count": 1,
   "metadata": {},
   "outputs": [],
   "source": [
    "import pandas as pd\n",
    "import pickle\n",
    "import numpy as np\n",
    "import xml.etree.cElementTree as ET\n",
    "import os\n",
    "import re\n",
    "from tqdm import tqdm\n",
    "import csv\n",
    "import requests"
   ]
  },
  {
   "cell_type": "code",
   "execution_count": null,
   "metadata": {},
   "outputs": [],
   "source": [
    "payment = pickle.load(open('./data/payment_dict.pkl', 'rb'))\n",
    "trial_list = list(payment.keys())"
   ]
  },
  {
   "cell_type": "code",
   "execution_count": 3,
   "metadata": {},
   "outputs": [],
   "source": [
    "def get_icd_from_nih(disease_name):\n",
    "\tprefix = 'https://clinicaltables.nlm.nih.gov/api/icd10cm/v3/search?sf=code,name&terms='\n",
    "\turl = prefix + disease_name \n",
    "\tresponse = requests.get(url)\n",
    "\ttext = response.text \n",
    "\tif text == '[0,[],null,[]]':\n",
    "\t\treturn [] \n",
    "\ttext = text[1:-1]\n",
    "\tidx1 = text.find('[')\n",
    "\tidx2 = text.find(']')\n",
    "\tcodes = text[idx1+1:idx2].split(',')\n",
    "\tcodes = [i[1:-1] for i in codes]\n",
    "\treturn codes"
   ]
  },
  {
   "cell_type": "code",
   "execution_count": 4,
   "metadata": {},
   "outputs": [],
   "source": [
    "def process_trial(path):\n",
    "    cur_trial = ET.ElementTree(file=path)\n",
    "    cur_dict = {}\n",
    "    if cur_trial.find('start_date') == None:\n",
    "        return None\n",
    "    else:\n",
    "        cur_str = cur_trial.find('start_date').text\n",
    "        # Use regex to find year\n",
    "        cur_dict['start_date'] = pd.to_datetime(cur_str).strftime('%Y-%m-%d')\n",
    "        \n",
    "    if cur_trial.find('completion_date') == None:\n",
    "        cur_dict['completion_date'] = np.nan\n",
    "    else:\n",
    "        cur_str = cur_trial.find('completion_date').text\n",
    "        cur_dict['completion_date'] = pd.to_datetime(cur_str).strftime('%Y-%m-%d')\n",
    "    \n",
    "    # phase\n",
    "    if cur_trial.find('phase') == None:\n",
    "        cur_dict['phase'] = np.nan\n",
    "    else:\n",
    "        cur_dict['phase'] = cur_trial.find('phase').text\n",
    "    \n",
    "    cur_cond = []\n",
    "    for x in cur_trial.findall('condition_browse/mesh_term'):\n",
    "        cur_cond += get_icd_from_nih(x.text)\n",
    "        \n",
    "    cur_dict['condition'] = list(set(cur_cond))\n",
    "    \n",
    "    sum_text = cur_trial.find('brief_summary/textblock').text\n",
    "    # Remove all \\r\\n, \\n and extra spaces\n",
    "    sum_text = re.sub(r'[\\r\\n]+', ' ', sum_text)\n",
    "    sum_text = re.sub(r' +', ' ', sum_text)\n",
    "    cur_dict['summary'] = sum_text\n",
    "    \n",
    "    if cur_trial.find('eligibility/criteria/textblock') == None:\n",
    "        return None\n",
    "    else:\n",
    "        cur_dict['criteria'] = cur_trial.find('eligibility/criteria/textblock').text\n",
    "    return cur_dict    "
   ]
  },
  {
   "cell_type": "code",
   "execution_count": null,
   "metadata": {},
   "outputs": [],
   "source": [
    "trial_dict = {}\n",
    "for path, subdirs, files in tqdm(os.walk('./data/AllPublicXML/')):\n",
    "    for name in files:\n",
    "        if name[:-4] in trial_list:\n",
    "            cur_trial = os.path.join(path, name)\n",
    "            cur_res = process_trial(cur_trial)\n",
    "            if cur_res != None:\n",
    "                res = process_trial(cur_trial)\n",
    "                if res != None:\n",
    "                    trial_dict[name[:-4]] = process_trial(cur_trial)\n",
    "                else:\n",
    "                    continue\n",
    "            else:\n",
    "                continue\n",
    "        else:\n",
    "            continue\n"
   ]
  },
  {
   "cell_type": "code",
   "execution_count": 9,
   "metadata": {},
   "outputs": [
    {
     "data": {
      "text/plain": [
       "{'NCT00004451': {'start_date': '1998-03-01',\n",
       "  'completion_date': nan,\n",
       "  'phase': 'N/A',\n",
       "  'condition': ['G20.B1', 'G20.A1', 'G20.A2', 'G20.B2'],\n",
       "  'summary': \" This study will determine whether glucose facilitates memory in healthy elderly people and those with Parkinson's disease. \",\n",
       "  'criteria': \"\\n        Inclusion Criteria:\\r\\n\\r\\n          -  Three groups of subjects are eligible for this study: Healthy young adults between\\r\\n             ages 18 and 30; Healthy elderly adults between ages 60 and 90; AND Anyone diagnosed\\r\\n             with Parkinson's disease\\r\\n\\r\\n        Exclusion Criteria:\\r\\n\\r\\n          -  Prior surgery to remove part of the stomach\\r\\n\\r\\n          -  Diabetes, Addison's, or Cushing's diseases\\r\\n      \"},\n",
       " 'NCT00089245': {'start_date': '2004-07-01',\n",
       "  'completion_date': '2025-07-01',\n",
       "  'phase': 'Phase 1',\n",
       "  'condition': ['C46.9',\n",
       "   'C92.31',\n",
       "   'C96.A',\n",
       "   'C92.32',\n",
       "   'C46.0',\n",
       "   'C46.2',\n",
       "   'C96.22'],\n",
       "  'summary': ' The purpose of this study is to find a safe dose of a new medicine called antibody 8H9. Antibodies are made by the body to fight infections and in some cases, to fight tumors. The antibody 8H9 is made by mice and can attack many kinds of tumors. 8H9 antibody can have a dose of radiation attached to it called 131-I. 131I-8H9 has been given in the vein to patients to find cancer cells. This is the first study using 131I-8H9 in the fluid in the spine to kill cancer cells. 131-I is a beta emitting isotope used extensively for radiation targeted therapies. ',\n",
       "  'criteria': '\\n        Subject Inclusion Criteria:\\r\\n\\r\\n          -  Patients must have a histologically confirmed diagnosis of a malignancy known to be\\r\\n             8H9 reactive. 8H9 expression must be confirmed by immunohistochemical staining of\\r\\n             tumor and assessed by the Department of Pathology or by immunofluorescence of bone\\r\\n             marrow except for patients confirmed to have neuroblastoma.\\r\\n\\r\\n          -  Patients must have CNS/ leptomeningeal disease which is refractory to conventional\\r\\n             therapies or for which no conventional therapy exists OR a recurrent brain tumors with\\r\\n             a predilection for leptomeningeal dissemination (medulloblastoma, PNET, rhabdoid\\r\\n             tumor).\\r\\n\\r\\n          -  Patients must have no rapidly progressing or deteriorating neurologic examination.\\r\\n\\r\\n          -  Patients must have an absolute neutrophil count (ANC) > 1000/ul and a platelet count >\\r\\n             50,000/ul.\\r\\n\\r\\n          -  Patients may have active malignancy outside the central nervous system.\\r\\n\\r\\n          -  Both pediatric and adult patients of any age are eligible.\\r\\n\\r\\n          -  Patients or a legal guardian will sign an informed consent form approved by the IRB\\r\\n             and obtained by the Principal or a Co- Investigator before patient entry. Minors will\\r\\n             provide assent.\\r\\n\\r\\n          -  Patients with stored stem cells will be treated at the escalating dose while patients\\r\\n             with no stem cells will be treated at the 50 mCi dose. Neuroblastoma patients can be\\r\\n             treated at the 50 mCi dose with or without stored stem cells.\\r\\n\\r\\n        Subject Exclusion Criteria:\\r\\n\\r\\n          -  Patients with obstructive or symptomatic communicating hydrocephalus.\\r\\n\\r\\n          -  Patients with an uncontrolled life-threatening infection.\\r\\n\\r\\n          -  Patients who are pregnant: Pregnant women are excluded for fear of danger to the\\r\\n             fetus. Therefore negative pregnancy test is required for all women of child-bearing\\r\\n             age, and appropriate contraception is required during the study period.\\r\\n\\r\\n          -  Patients who have received cranial or spinal irradiation less than 3 weeks prior to\\r\\n             the start of this protocol.\\r\\n\\r\\n          -  Patients who have received systemic chemotherapy (corticosteroids not included) less\\r\\n             than 3 weeks prior to the start of this protocol.\\r\\n\\r\\n          -  Severe major organ toxicity. Specifically, renal, cardiac, hepatic, pulmonary, and\\r\\n             gastrointestinal system toxicity should all be less than grade 2. Patients with stable\\r\\n             neurological deficits (because of their brain tumor) are not excluded. Patients with\\r\\n             <= 3 hearing loss are not excluded.\\r\\n      '},\n",
       " 'NCT00116142': {'start_date': '2005-06-01',\n",
       "  'completion_date': '2020-06-29',\n",
       "  'phase': 'Phase 3',\n",
       "  'condition': [],\n",
       "  'summary': ' This randomized study is looking at the benefits of using docetaxel (chemotherapy) added to one of the standard treatments (radiation and hormones) for men with high-risk prostate cancer. ',\n",
       "  'criteria': '\\n        Inclusion Criteria:\\r\\n\\r\\n          -  Biopsy proven prostate cancer\\r\\n\\r\\n          -  Clinical Tumor Category T1b, T1c, T2a and PSA greater than (>) 10 or Gleason score\\r\\n             equal or greater than 4+3=7 or PSA velocity > 2.0 ng/ml per year and also eligible\\r\\n             patients with tumor category T2c, T3a, T3b, or T4 as per 2002 AJCC guidelines. Any\\r\\n             minor tertiary grade of Gleason 5; Biopsy Proven or Radiographic (erMRI Seminal\\r\\n             Vesicle Invasion); Gleason = or > 3+4=7 with 50% or more cores positive\\r\\n\\r\\n          -  Negative bone scan\\r\\n\\r\\n          -  Lymph node assessment by CT or MR\\r\\n\\r\\n          -  Adequate hematologic function (Blood Counts)\\r\\n\\r\\n          -  Adequate liver functions (blood tests)\\r\\n\\r\\n          -  ECOG performance Status 0 or 1\\r\\n\\r\\n          -  Peripheral neuropathy must be =< grade 1\\r\\n\\r\\n          -  PSA obtained within 3 months of entry\\r\\n\\r\\n        Exclusion Criteria:\\r\\n\\r\\n          -  Prior history of malignancy that are < 5 years except for cancers found to be\\r\\n             \"in-situ\" and would not likely impact a patient\\'s life expectancy with appropriate\\r\\n             medical management.\\r\\n\\r\\n          -  Prior pelvic radiation therapy\\r\\n\\r\\n          -  Prior hormonal therapy (up to 4 weeks prior to enrollment allowed)\\r\\n\\r\\n          -  Individuals unable to tolerate lying still 5 - 10 minutes\\r\\n\\r\\n          -  Patients with a history of severe hypersensitivity reaction to docetaxel or other\\r\\n             drugs formulated with polysorbate 90.\\r\\n      '},\n",
       " 'NCT00134563': {'start_date': '2004-09-01',\n",
       "  'completion_date': '2010-07-01',\n",
       "  'phase': 'Phase 3',\n",
       "  'condition': ['K74.1',\n",
       "   'Q85.1',\n",
       "   'M34.0',\n",
       "   'G12.23',\n",
       "   'G12.21',\n",
       "   'C81.18',\n",
       "   'G35',\n",
       "   'G93.81'],\n",
       "  'summary': ' The primary objective was to determine the effect of teriflunomide on the frequency of relapses in patients with relapsing multiple sclerosis (MS). Secondary objectives were: - to evaluate the effect of teriflunomide on the accumulation of disability as measured by Expanded Disability Status Scale [EDSS], the burden of disease as measured by Magnetic Resonance Imaging [MRI] and patient-reported fatigue; - to evaluate the safety and tolerability of teriflunomide. ',\n",
       "  'criteria': \"\\n        Inclusion Criteria:\\r\\n\\r\\n          -  Multiple sclerosis [MS] subject who was ambulatory (EDSS of ≤ 5.5)\\r\\n\\r\\n          -  Exhibiting a relapsing clinical course, with or without progression (relapsing\\r\\n             remitting, secondary progressive or progressive relapsing);\\r\\n\\r\\n          -  Meeting McDonald's criteria for MS diagnosis;\\r\\n\\r\\n          -  Experienced at least 1 relapse over the 1 year preceding the trial or at least 2\\r\\n             relapses over the 2 years preceding the trial;\\r\\n\\r\\n          -  No relapse onset in the preceding 60 days prior to randomization;\\r\\n\\r\\n          -  Clinically stable during the 30 days prior to randomization, without\\r\\n             adrenocorticotrophic hormone [ACTH] or systemic steroid treatment.\\r\\n\\r\\n        Exclusion Criteria:\\r\\n\\r\\n          -  Clinically relevant cardiovascular, hepatic, neurological, endocrine or other major\\r\\n             systemic disease;\\r\\n\\r\\n          -  Significantly impaired bone marrow function;\\r\\n\\r\\n          -  Pregnant or nursing woman;\\r\\n\\r\\n          -  Alcohol or drug abuse;\\r\\n\\r\\n          -  Use of cladribine, mitoxantrone, or other immunosuppressant agents such as\\r\\n             azathioprine, cyclophosphamide, cyclosporin, methotrexate or mycophenolate before\\r\\n             enrollment;\\r\\n\\r\\n          -  Any known condition or circumstance that would prevent in the investigator's opinion\\r\\n             compliance or completion of the study;\\r\\n      \"}}"
      ]
     },
     "execution_count": 9,
     "metadata": {},
     "output_type": "execute_result"
    }
   ],
   "source": [
    "trial_dict"
   ]
  },
  {
   "cell_type": "code",
   "execution_count": 22,
   "metadata": {},
   "outputs": [
    {
     "data": {
      "text/plain": [
       "{'start_date': '2004-07-01',\n",
       " 'completion_date': '2025-07-01',\n",
       " 'condition': ['C46.9',\n",
       "  'C92.32',\n",
       "  'C92.31',\n",
       "  'C46.2',\n",
       "  'C96.22',\n",
       "  'C46.0',\n",
       "  'C96.A'],\n",
       " 'summary': ' The purpose of this study is to find a safe dose of a new medicine called antibody 8H9. Antibodies are made by the body to fight infections and in some cases, to fight tumors. The antibody 8H9 is made by mice and can attack many kinds of tumors. 8H9 antibody can have a dose of radiation attached to it called 131-I. 131I-8H9 has been given in the vein to patients to find cancer cells. This is the first study using 131I-8H9 in the fluid in the spine to kill cancer cells. 131-I is a beta emitting isotope used extensively for radiation targeted therapies. ',\n",
       " 'criteria': '\\n        Subject Inclusion Criteria:\\r\\n\\r\\n          -  Patients must have a histologically confirmed diagnosis of a malignancy known to be\\r\\n             8H9 reactive. 8H9 expression must be confirmed by immunohistochemical staining of\\r\\n             tumor and assessed by the Department of Pathology or by immunofluorescence of bone\\r\\n             marrow except for patients confirmed to have neuroblastoma.\\r\\n\\r\\n          -  Patients must have CNS/ leptomeningeal disease which is refractory to conventional\\r\\n             therapies or for which no conventional therapy exists OR a recurrent brain tumors with\\r\\n             a predilection for leptomeningeal dissemination (medulloblastoma, PNET, rhabdoid\\r\\n             tumor).\\r\\n\\r\\n          -  Patients must have no rapidly progressing or deteriorating neurologic examination.\\r\\n\\r\\n          -  Patients must have an absolute neutrophil count (ANC) > 1000/ul and a platelet count >\\r\\n             50,000/ul.\\r\\n\\r\\n          -  Patients may have active malignancy outside the central nervous system.\\r\\n\\r\\n          -  Both pediatric and adult patients of any age are eligible.\\r\\n\\r\\n          -  Patients or a legal guardian will sign an informed consent form approved by the IRB\\r\\n             and obtained by the Principal or a Co- Investigator before patient entry. Minors will\\r\\n             provide assent.\\r\\n\\r\\n          -  Patients with stored stem cells will be treated at the escalating dose while patients\\r\\n             with no stem cells will be treated at the 50 mCi dose. Neuroblastoma patients can be\\r\\n             treated at the 50 mCi dose with or without stored stem cells.\\r\\n\\r\\n        Subject Exclusion Criteria:\\r\\n\\r\\n          -  Patients with obstructive or symptomatic communicating hydrocephalus.\\r\\n\\r\\n          -  Patients with an uncontrolled life-threatening infection.\\r\\n\\r\\n          -  Patients who are pregnant: Pregnant women are excluded for fear of danger to the\\r\\n             fetus. Therefore negative pregnancy test is required for all women of child-bearing\\r\\n             age, and appropriate contraception is required during the study period.\\r\\n\\r\\n          -  Patients who have received cranial or spinal irradiation less than 3 weeks prior to\\r\\n             the start of this protocol.\\r\\n\\r\\n          -  Patients who have received systemic chemotherapy (corticosteroids not included) less\\r\\n             than 3 weeks prior to the start of this protocol.\\r\\n\\r\\n          -  Severe major organ toxicity. Specifically, renal, cardiac, hepatic, pulmonary, and\\r\\n             gastrointestinal system toxicity should all be less than grade 2. Patients with stable\\r\\n             neurological deficits (because of their brain tumor) are not excluded. Patients with\\r\\n             <= 3 hearing loss are not excluded.\\r\\n      '}"
      ]
     },
     "execution_count": 22,
     "metadata": {},
     "output_type": "execute_result"
    }
   ],
   "source": [
    "trial_dict['NCT00089245']"
   ]
  },
  {
   "cell_type": "code",
   "execution_count": null,
   "metadata": {},
   "outputs": [],
   "source": [
    "pickle.dump(trial_dict, open('./data/trial_info.pkl', 'wb'))"
   ]
  },
  {
   "cell_type": "code",
   "execution_count": null,
   "metadata": {},
   "outputs": [],
   "source": [
    "# Generate parser input csv\n",
    "rows = []\n",
    "for each_trial in trial_dict:\n",
    "    rows.append([each_trial, '', '', trial_dict[each_trial]['condition'], trial_dict[each_trial]['criteria']])\n",
    "with open('./data/trial_info.csv', 'w', newline='') as csvfile:\n",
    "    writer = csv.writer(csvfile)\n",
    "    writer.writerow(['#nct_id', 'title', 'has_us_facility', 'conditions', 'eligibility_criteria'])\n",
    "    writer.writerows(rows)"
   ]
  },
  {
   "cell_type": "code",
   "execution_count": 16,
   "metadata": {},
   "outputs": [
    {
     "data": {
      "text/plain": [
       "{'start_date': '2004-07-01',\n",
       " 'completion_date': '2025-07-01',\n",
       " 'condition': 'Brain and Central Nervous System Tumors',\n",
       " 'criteria': '\\n        Subject Inclusion Criteria:\\r\\n\\r\\n          -  Patients must have a histologically confirmed diagnosis of a malignancy known to be\\r\\n             8H9 reactive. 8H9 expression must be confirmed by immunohistochemical staining of\\r\\n             tumor and assessed by the Department of Pathology or by immunofluorescence of bone\\r\\n             marrow except for patients confirmed to have neuroblastoma.\\r\\n\\r\\n          -  Patients must have CNS/ leptomeningeal disease which is refractory to conventional\\r\\n             therapies or for which no conventional therapy exists OR a recurrent brain tumors with\\r\\n             a predilection for leptomeningeal dissemination (medulloblastoma, PNET, rhabdoid\\r\\n             tumor).\\r\\n\\r\\n          -  Patients must have no rapidly progressing or deteriorating neurologic examination.\\r\\n\\r\\n          -  Patients must have an absolute neutrophil count (ANC) > 1000/ul and a platelet count >\\r\\n             50,000/ul.\\r\\n\\r\\n          -  Patients may have active malignancy outside the central nervous system.\\r\\n\\r\\n          -  Both pediatric and adult patients of any age are eligible.\\r\\n\\r\\n          -  Patients or a legal guardian will sign an informed consent form approved by the IRB\\r\\n             and obtained by the Principal or a Co- Investigator before patient entry. Minors will\\r\\n             provide assent.\\r\\n\\r\\n          -  Patients with stored stem cells will be treated at the escalating dose while patients\\r\\n             with no stem cells will be treated at the 50 mCi dose. Neuroblastoma patients can be\\r\\n             treated at the 50 mCi dose with or without stored stem cells.\\r\\n\\r\\n        Subject Exclusion Criteria:\\r\\n\\r\\n          -  Patients with obstructive or symptomatic communicating hydrocephalus.\\r\\n\\r\\n          -  Patients with an uncontrolled life-threatening infection.\\r\\n\\r\\n          -  Patients who are pregnant: Pregnant women are excluded for fear of danger to the\\r\\n             fetus. Therefore negative pregnancy test is required for all women of child-bearing\\r\\n             age, and appropriate contraception is required during the study period.\\r\\n\\r\\n          -  Patients who have received cranial or spinal irradiation less than 3 weeks prior to\\r\\n             the start of this protocol.\\r\\n\\r\\n          -  Patients who have received systemic chemotherapy (corticosteroids not included) less\\r\\n             than 3 weeks prior to the start of this protocol.\\r\\n\\r\\n          -  Severe major organ toxicity. Specifically, renal, cardiac, hepatic, pulmonary, and\\r\\n             gastrointestinal system toxicity should all be less than grade 2. Patients with stable\\r\\n             neurological deficits (because of their brain tumor) are not excluded. Patients with\\r\\n             <= 3 hearing loss are not excluded.\\r\\n      '}"
      ]
     },
     "execution_count": 16,
     "metadata": {},
     "output_type": "execute_result"
    }
   ],
   "source": [
    "trial_dict['NCT00089245']"
   ]
  },
  {
   "cell_type": "code",
   "execution_count": null,
   "metadata": {},
   "outputs": [],
   "source": []
  }
 ],
 "metadata": {
  "kernelspec": {
   "display_name": "base",
   "language": "python",
   "name": "python3"
  },
  "language_info": {
   "codemirror_mode": {
    "name": "ipython",
    "version": 3
   },
   "file_extension": ".py",
   "mimetype": "text/x-python",
   "name": "python",
   "nbconvert_exporter": "python",
   "pygments_lexer": "ipython3",
   "version": "3.9.13"
  },
  "orig_nbformat": 4
 },
 "nbformat": 4,
 "nbformat_minor": 2
}
