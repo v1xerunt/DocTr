{
 "cells": [
  {
   "cell_type": "code",
   "execution_count": 1,
   "metadata": {},
   "outputs": [],
   "source": [
    "from logging import getLogger\n",
    "from recbole.utils import init_logger, init_seed\n",
    "from recbole.trainer import Trainer\n",
    "from custom.doctr import Doctr\n",
    "from recbole.config import Config\n",
    "from recbole.data import create_dataset, data_preparation\n",
    "import pickle\n",
    "\n",
    "import torch"
   ]
  },
  {
   "cell_type": "code",
   "execution_count": null,
   "metadata": {},
   "outputs": [
    {
     "name": "stderr",
     "output_type": "stream",
     "text": [
      "30 Apr 23:58    INFO  \n",
      "General Hyper Parameters:\n",
      "gpu_id = 0\n",
      "use_gpu = True\n",
      "seed = 2020\n",
      "state = INFO\n",
      "reproducibility = True\n",
      "data_path = D:\\OneDrive - University of Edinburgh\\paper\\[01 PRE] Trial Recomm\\\\atomic\\trial_zero\n",
      "checkpoint_dir = D:\\OneDrive - University of Edinburgh\\paper\\[01 PRE] Trial Recomm\\\\models\\\n",
      "show_progress = True\n",
      "save_dataset = True\n",
      "dataset_save_path = D:\\OneDrive - University of Edinburgh\\paper\\[01 PRE] Trial Recomm\\models\\trial_zero-dataset.pth\n",
      "save_dataloaders = True\n",
      "dataloaders_save_path = D:\\OneDrive - University of Edinburgh\\paper\\[01 PRE] Trial Recomm\\models\\trial_zero-for-Doctr-dataloader.pth\n",
      "log_wandb = False\n",
      "\n",
      "Training Hyper Parameters:\n",
      "epochs = 300\n",
      "train_batch_size = 2048\n",
      "learner = adam\n",
      "learning_rate = 0.001\n",
      "train_neg_sample_args = {'uniform': 1, 'distribution': 'uniform', 'sample_num': 1, 'alpha': 1.0, 'dynamic': False, 'candidate_num': 0}\n",
      "eval_step = 1\n",
      "stopping_step = 10\n",
      "clip_grad_norm = None\n",
      "weight_decay = 0.0\n",
      "loss_decimal_place = 4\n",
      "\n",
      "Evaluation Hyper Parameters:\n",
      "eval_args = {'split': {'RS': [0.8, 0.1, 0.1]}, 'group_by': 'user', 'order': 'RO', 'mode': 'full'}\n",
      "repeatable = False\n",
      "metrics = ['Hit', 'CompositeSimilarity', 'CompositeSimilarity_GT', 'Recall', 'NDCG']\n",
      "topk = [5, 10, 20]\n",
      "valid_metric = composite_similarity_gt\n",
      "valid_metric_bigger = True\n",
      "eval_batch_size = 2048\n",
      "metric_decimal_place = 4\n",
      "\n",
      "Dataset Hyper Parameters:\n",
      "field_separator = \t\n",
      "seq_separator =  \n",
      "USER_ID_FIELD = user_id\n",
      "ITEM_ID_FIELD = item_id\n",
      "RATING_FIELD = rating\n",
      "TIME_FIELD = timestamp\n",
      "seq_len = None\n",
      "LABEL_FIELD = label\n",
      "threshold = None\n",
      "NEG_PREFIX = neg_\n",
      "load_col = {'inter': ['user_id', 'item_id'], 'user': ['user_id', 'user_feat', 'user_info', 'user_summary'], 'item': ['item_id', 'item_feat', 'item_his', 'item_feat_2']}\n",
      "unload_col = None\n",
      "unused_col = None\n",
      "additional_feat_suffix = None\n",
      "rm_dup_inter = None\n",
      "val_interval = None\n",
      "filter_inter_by_user_or_item = True\n",
      "user_inter_num_interval = [0,inf)\n",
      "item_inter_num_interval = [0,inf)\n",
      "alias_of_user_id = None\n",
      "alias_of_item_id = None\n",
      "alias_of_entity_id = None\n",
      "alias_of_relation_id = None\n",
      "preload_weight = None\n",
      "normalize_field = None\n",
      "normalize_all = None\n",
      "ITEM_LIST_LENGTH_FIELD = item_length\n",
      "LIST_SUFFIX = _list\n",
      "MAX_ITEM_LIST_LENGTH = 50\n",
      "POSITION_FIELD = position_id\n",
      "HEAD_ENTITY_ID_FIELD = head_id\n",
      "TAIL_ENTITY_ID_FIELD = tail_id\n",
      "RELATION_ID_FIELD = relation_id\n",
      "ENTITY_ID_FIELD = entity_id\n",
      "benchmark_filename = ['train', 'val', 'test']\n",
      "\n",
      "Other Hyper Parameters: \n",
      "worker = 0\n",
      "wandb_project = recbole\n",
      "shuffle = True\n",
      "require_pow = False\n",
      "enable_amp = False\n",
      "enable_scaler = False\n",
      "transform = None\n",
      "numerical_features = []\n",
      "discretization = None\n",
      "kg_reverse_r = False\n",
      "entity_kg_num_interval = [0,inf)\n",
      "relation_kg_num_interval = [0,inf)\n",
      "MODEL_TYPE = ModelType.GENERAL\n",
      "hidden_size = 64\n",
      "n_layers = 3\n",
      "reg_weight = 1e-05\n",
      "MODEL_INPUT_TYPE = InputType.PAIRWISE\n",
      "eval_type = EvaluatorType.RANKING\n",
      "single_spec = True\n",
      "local_rank = 0\n",
      "device = cuda\n",
      "eval_neg_sample_args = {'distribution': 'uniform', 'sample_num': 'none'}\n",
      "\n",
      "\n",
      "30 Apr 23:58    INFO  Load filtered dataset from: [D:\\OneDrive - University of Edinburgh\\paper\\[01 PRE] Trial Recomm\\models\\trial_zero-dataset.pth]\n",
      "30 Apr 23:58    INFO  trial_zero\n",
      "The number of users: 4255\n",
      "Average actions of users: 15.768941176470587\n",
      "The number of items: 24525\n",
      "Average actions of items: 2.7327515902789106\n",
      "The number of inters: 67018\n",
      "The sparsity of the dataset: 99.93577813952764%\n",
      "Remain Fields: ['user_id', 'item_id', 'user_feat', 'user_info', 'user_summary', 'item_feat', 'item_his', 'item_feat_2']\n"
     ]
    },
    {
     "name": "stdout",
     "output_type": "stream",
     "text": [
      "-------------\n"
     ]
    },
    {
     "name": "stderr",
     "output_type": "stream",
     "text": [
      "30 Apr 23:58    INFO  Load split dataloaders from: [D:\\OneDrive - University of Edinburgh\\paper\\[01 PRE] Trial Recomm\\models\\trial_zero-for-Doctr-dataloader.pth]\n",
      "30 Apr 23:58    INFO  [Training]: train_batch_size = [2048] train_neg_sample_args: [{'uniform': 1, 'distribution': 'uniform', 'sample_num': 1, 'alpha': 1.0, 'dynamic': False, 'candidate_num': 0}]\n",
      "30 Apr 23:58    INFO  [Evaluation]: eval_batch_size = [2048] eval_args: [{'split': {'RS': [0.8, 0.1, 0.1]}, 'group_by': 'user', 'order': 'RO', 'mode': 'full'}]\n"
     ]
    }
   ],
   "source": [
    "config = Config(model=Doctr, dataset='trial_zero', config_file_list=[\"./atomic/doctr.yaml\"])\n",
    "init_seed(config['seed'], config['reproducibility'])\n",
    "\n",
    "# logger initialization\n",
    "init_logger(config)\n",
    "logger = getLogger()\n",
    "\n",
    "logger.info(config)\n",
    "\n",
    "# dataset filtering\n",
    "dataset = create_dataset(config)\n",
    "#dataset = pickle.load(open('./dataset.pkl', 'rb'))\n",
    "logger.info(dataset)\n",
    "print('-------------')\n",
    "\n",
    "# dataset splitting\n",
    "train_data, valid_data, test_data = data_preparation(config, dataset)"
   ]
  },
  {
   "cell_type": "code",
   "execution_count": 3,
   "metadata": {},
   "outputs": [],
   "source": [
    "model = Doctr(config, train_data.dataset).to(config['device'])\n",
    "trainer = Trainer(config, model)\n",
    "trainer.eval_collector.data_collect(train_data)\n",
    "trainer.eval_collector.model_collect(model)"
   ]
  },
  {
   "cell_type": "code",
   "execution_count": 4,
   "metadata": {},
   "outputs": [
    {
     "name": "stderr",
     "output_type": "stream",
     "text": [
      "30 Apr 23:58    INFO  epoch 0 training [time: 1.00s, train loss: 2.9381]\n",
      "30 Apr 23:58    INFO  epoch 0 evaluating [time: 2.17s, valid_score: 0.670563]\n",
      "30 Apr 23:58    INFO  valid result: \n",
      "hit@5 : 0.0024    hit@10 : 0.0024    hit@20 : 0.0024    composite_similarity@5 : 0.723370373249054    composite_similarity@10 : 0.6740361452102661    composite_similarity@20 : 0.6446613669395447    composite_similarity_gt : 0.6705628633499146    recall@5 : 0.0024    recall@10 : 0.0024    recall@20 : 0.0024    ndcg@5 : 0.0024    ndcg@10 : 0.0024    ndcg@20 : 0.0024\n",
      "30 Apr 23:58    INFO  Saving current: D:\\OneDrive - University of Edinburgh\\paper\\[01 PRE] Trial Recomm\\\\models\\Doctr-Apr-30-2024_23-58-14.pth\n",
      "30 Apr 23:58    INFO  epoch 1 training [time: 0.86s, train loss: 1.8078]\n",
      "30 Apr 23:58    INFO  epoch 1 evaluating [time: 2.10s, valid_score: 0.699428]\n",
      "30 Apr 23:58    INFO  valid result: \n",
      "hit@5 : 0.0071    hit@10 : 0.0141    hit@20 : 0.0259    composite_similarity@5 : 0.7310892939567566    composite_similarity@10 : 0.7235000133514404    composite_similarity@20 : 0.669769287109375    composite_similarity_gt : 0.6994280815124512    recall@5 : 0.0024    recall@10 : 0.0051    recall@20 : 0.006    ndcg@5 : 0.0025    ndcg@10 : 0.0033    ndcg@20 : 0.0035\n",
      "30 Apr 23:58    INFO  Saving current: D:\\OneDrive - University of Edinburgh\\paper\\[01 PRE] Trial Recomm\\\\models\\Doctr-Apr-30-2024_23-58-14.pth\n",
      "30 Apr 23:58    INFO  epoch 2 training [time: 0.84s, train loss: 1.6724]\n",
      "30 Apr 23:58    INFO  epoch 2 evaluating [time: 2.16s, valid_score: 0.713226]\n",
      "30 Apr 23:58    INFO  valid result: \n",
      "hit@5 : 0.0141    hit@10 : 0.0212    hit@20 : 0.0376    composite_similarity@5 : 0.7208048105239868    composite_similarity@10 : 0.7224665880203247    composite_similarity@20 : 0.7157381176948547    composite_similarity_gt : 0.7132256627082825    recall@5 : 0.0028    recall@10 : 0.0058    recall@20 : 0.01    ndcg@5 : 0.0055    ndcg@10 : 0.0057    ndcg@20 : 0.0065\n",
      "30 Apr 23:58    INFO  Saving current: D:\\OneDrive - University of Edinburgh\\paper\\[01 PRE] Trial Recomm\\\\models\\Doctr-Apr-30-2024_23-58-14.pth\n",
      "30 Apr 23:58    INFO  epoch 3 training [time: 0.88s, train loss: 1.5501]\n",
      "30 Apr 23:58    INFO  epoch 3 evaluating [time: 2.17s, valid_score: 0.615504]\n",
      "30 Apr 23:58    INFO  valid result: \n",
      "hit@5 : 0.0094    hit@10 : 0.0188    hit@20 : 0.0235    composite_similarity@5 : 0.5846993327140808    composite_similarity@10 : 0.6472799777984619    composite_similarity@20 : 0.655706524848938    composite_similarity_gt : 0.6155038475990295    recall@5 : 0.0025    recall@10 : 0.0057    recall@20 : 0.0059    ndcg@5 : 0.002    ndcg@10 : 0.003    ndcg@20 : 0.0029\n",
      "30 Apr 23:58    INFO  epoch 4 training [time: 0.90s, train loss: 1.4487]\n",
      "30 Apr 23:58    INFO  epoch 4 evaluating [time: 2.12s, valid_score: 0.697626]\n",
      "30 Apr 23:58    INFO  valid result: \n",
      "hit@5 : 0.0047    hit@10 : 0.0071    hit@20 : 0.0165    composite_similarity@5 : 0.731232762336731    composite_similarity@10 : 0.724006712436676    composite_similarity@20 : 0.6660082340240479    composite_similarity_gt : 0.6976255774497986    recall@5 : 0.0001    recall@10 : 0.0002    recall@20 : 0.0028    ndcg@5 : 0.0008    ndcg@10 : 0.0011    ndcg@20 : 0.0017\n",
      "30 Apr 23:58    INFO  epoch 5 training [time: 0.86s, train loss: 1.4194]\n",
      "30 Apr 23:58    INFO  epoch 5 evaluating [time: 2.18s, valid_score: 0.627761]\n",
      "30 Apr 23:58    INFO  valid result: \n",
      "hit@5 : 0.0047    hit@10 : 0.0071    hit@20 : 0.0165    composite_similarity@5 : 0.6487277150154114    composite_similarity@10 : 0.6383984088897705    composite_similarity@20 : 0.6043735146522522    composite_similarity_gt : 0.62776118516922    recall@5 : 0.0002    recall@10 : 0.0003    recall@20 : 0.0006    ndcg@5 : 0.001    ndcg@10 : 0.0008    ndcg@20 : 0.001\n",
      "30 Apr 23:58    INFO  epoch 6 training [time: 0.88s, train loss: 1.2570]\n",
      "30 Apr 23:58    INFO  epoch 6 evaluating [time: 2.20s, valid_score: 0.588715]\n",
      "30 Apr 23:58    INFO  valid result: \n",
      "hit@5 : 0.0118    hit@10 : 0.0165    hit@20 : 0.0212    composite_similarity@5 : 0.619013786315918    composite_similarity@10 : 0.6022682189941406    composite_similarity@20 : 0.582720160484314    composite_similarity_gt : 0.5887145400047302    recall@5 : 0.0027    recall@10 : 0.0028    recall@20 : 0.0029    ndcg@5 : 0.0024    ndcg@10 : 0.0024    ndcg@20 : 0.0022\n",
      "30 Apr 23:58    INFO  epoch 7 training [time: 0.90s, train loss: 1.2642]\n",
      "30 Apr 23:58    INFO  epoch 7 evaluating [time: 2.22s, valid_score: 0.604962]\n",
      "30 Apr 23:58    INFO  valid result: \n",
      "hit@5 : 0.0094    hit@10 : 0.0165    hit@20 : 0.0235    composite_similarity@5 : 0.6412613391876221    composite_similarity@10 : 0.6030060648918152    composite_similarity@20 : 0.580107569694519    composite_similarity_gt : 0.6049624681472778    recall@5 : 0.0026    recall@10 : 0.0034    recall@20 : 0.0038    ndcg@5 : 0.0028    ndcg@10 : 0.0032    ndcg@20 : 0.0031\n",
      "30 Apr 23:58    INFO  epoch 8 training [time: 0.88s, train loss: 1.1422]\n",
      "30 Apr 23:58    INFO  epoch 8 evaluating [time: 2.25s, valid_score: 0.556258]\n",
      "30 Apr 23:58    INFO  valid result: \n",
      "hit@5 : 0.0    hit@10 : 0.0141    hit@20 : 0.0259    composite_similarity@5 : 0.543104350566864    composite_similarity@10 : 0.5531542897224426    composite_similarity@20 : 0.5603399872779846    composite_similarity_gt : 0.5562576055526733    recall@5 : 0.0    recall@10 : 0.0027    recall@20 : 0.0054    ndcg@5 : 0.0    ndcg@10 : 0.0015    ndcg@20 : 0.0023\n",
      "30 Apr 23:58    INFO  epoch 9 training [time: 0.87s, train loss: 1.2099]\n",
      "30 Apr 23:58    INFO  epoch 9 evaluating [time: 2.35s, valid_score: 0.527895]\n",
      "30 Apr 23:58    INFO  valid result: \n",
      "hit@5 : 0.0094    hit@10 : 0.0212    hit@20 : 0.0353    composite_similarity@5 : 0.520584225654602    composite_similarity@10 : 0.5248288512229919    composite_similarity@20 : 0.5206207036972046    composite_similarity_gt : 0.5278948545455933    recall@5 : 0.0028    recall@10 : 0.0033    recall@20 : 0.0046    ndcg@5 : 0.0033    ndcg@10 : 0.0037    ndcg@20 : 0.0038\n",
      "30 Apr 23:58    INFO  epoch 10 training [time: 0.89s, train loss: 1.0998]\n",
      "30 Apr 23:58    INFO  epoch 10 evaluating [time: 2.30s, valid_score: 0.460039]\n",
      "30 Apr 23:58    INFO  valid result: \n",
      "hit@5 : 0.0047    hit@10 : 0.0094    hit@20 : 0.0165    composite_similarity@5 : 0.49414366483688354    composite_similarity@10 : 0.45079100131988525    composite_similarity@20 : 0.43760591745376587    composite_similarity_gt : 0.4600389897823334    recall@5 : 0.0001    recall@10 : 0.0025    recall@20 : 0.0035    ndcg@5 : 0.0007    ndcg@10 : 0.0013    ndcg@20 : 0.0016\n",
      "30 Apr 23:58    INFO  epoch 11 training [time: 0.88s, train loss: 1.0336]\n",
      "30 Apr 23:58    INFO  epoch 11 evaluating [time: 2.31s, valid_score: 0.526026]\n",
      "30 Apr 23:58    INFO  valid result: \n",
      "hit@5 : 0.0047    hit@10 : 0.0118    hit@20 : 0.0282    composite_similarity@5 : 0.5452152490615845    composite_similarity@10 : 0.5161612629890442    composite_similarity@20 : 0.5056214332580566    composite_similarity_gt : 0.5260259509086609    recall@5 : 0.0001    recall@10 : 0.0026    recall@20 : 0.0035    ndcg@5 : 0.0009    ndcg@10 : 0.0017    ndcg@20 : 0.0022\n",
      "30 Apr 23:58    INFO  epoch 12 training [time: 0.89s, train loss: 0.9977]\n",
      "30 Apr 23:58    INFO  epoch 12 evaluating [time: 2.36s, valid_score: 0.368728]\n",
      "30 Apr 23:58    INFO  valid result: \n",
      "hit@5 : 0.0094    hit@10 : 0.0141    hit@20 : 0.0212    composite_similarity@5 : 0.4018768072128296    composite_similarity@10 : 0.363015741109848    composite_similarity@20 : 0.34918978810310364    composite_similarity_gt : 0.36872780323028564    recall@5 : 0.0008    recall@10 : 0.0012    recall@20 : 0.0059    ndcg@5 : 0.0025    ndcg@10 : 0.0021    ndcg@20 : 0.0028\n",
      "30 Apr 23:58    INFO  epoch 13 training [time: 0.89s, train loss: 0.9239]\n",
      "30 Apr 23:58    INFO  epoch 13 evaluating [time: 2.40s, valid_score: 0.426796]\n",
      "30 Apr 23:58    INFO  valid result: \n",
      "hit@5 : 0.0047    hit@10 : 0.0188    hit@20 : 0.0353    composite_similarity@5 : 0.4524727165699005    composite_similarity@10 : 0.42985886335372925    composite_similarity@20 : 0.4143378734588623    composite_similarity_gt : 0.42679563164711    recall@5 : 0.0001    recall@10 : 0.0059    recall@20 : 0.008    ndcg@5 : 0.0008    ndcg@10 : 0.0028    ndcg@20 : 0.0035\n",
      "30 Apr 23:58    INFO  Finished training, best eval result in epoch 2\n"
     ]
    }
   ],
   "source": [
    "best_valid_score, best_valid_result = trainer.fit(train_data, valid_data)"
   ]
  },
  {
   "cell_type": "code",
   "execution_count": 5,
   "metadata": {},
   "outputs": [
    {
     "name": "stderr",
     "output_type": "stream",
     "text": [
      "30 Apr 23:59    INFO  Loading model structure and parameters from D:\\OneDrive - University of Edinburgh\\paper\\[01 PRE] Trial Recomm\\\\models\\Doctr-Apr-30-2024_23-58-14.pth\n"
     ]
    }
   ],
   "source": [
    "test_result = trainer.evaluate(test_data, load_best_model=True)"
   ]
  },
  {
   "cell_type": "code",
   "execution_count": 3,
   "metadata": {},
   "outputs": [
    {
     "data": {
      "text/plain": [
       "OrderedDict([('composite_similarity@5', 0.6022577881813049),\n",
       "             ('composite_similarity@10', 0.5917636156082153),\n",
       "             ('composite_similarity@20', 0.598173975944519),\n",
       "             ('composite_similarity_gt', 0.5942211151123047)])"
      ]
     },
     "execution_count": 3,
     "metadata": {},
     "output_type": "execute_result"
    }
   ],
   "source": [
    "test_result # Custom model, freeze=True"
   ]
  },
  {
   "cell_type": "code",
   "execution_count": null,
   "metadata": {},
   "outputs": [],
   "source": []
  }
 ],
 "metadata": {
  "kernelspec": {
   "display_name": "base",
   "language": "python",
   "name": "python3"
  },
  "language_info": {
   "codemirror_mode": {
    "name": "ipython",
    "version": 3
   },
   "file_extension": ".py",
   "mimetype": "text/x-python",
   "name": "python",
   "nbconvert_exporter": "python",
   "pygments_lexer": "ipython3",
   "version": "3.12.3"
  }
 },
 "nbformat": 4,
 "nbformat_minor": 2
}
