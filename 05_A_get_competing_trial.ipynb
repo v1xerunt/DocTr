{
 "cells": [
  {
   "cell_type": "code",
   "execution_count": 1,
   "metadata": {},
   "outputs": [],
   "source": [
    "import pickle\n",
    "import numpy as np\n",
    "from datetime import datetime"
   ]
  },
  {
   "cell_type": "code",
   "execution_count": null,
   "metadata": {},
   "outputs": [],
   "source": [
    "trial_info = pickle.load(open('./data/trial_info.pkl', 'rb'))\n",
    "npi2trial = pickle.load(open('./data/npi2trial.pkl', 'rb'))\n",
    "trial2npi = pickle.load(open('./data/trial2npi.pkl', 'rb'))\n",
    "test_list = pickle.load(open('./data/zero_shot/test_list.pkl', 'rb'))"
   ]
  },
  {
   "cell_type": "code",
   "execution_count": 7,
   "metadata": {},
   "outputs": [],
   "source": [
    "competing_dict = {}\n",
    "cnt = 0\n",
    "start_date = []\n",
    "for each_trial in test_list:\n",
    "    cur_start_date = trial_info[each_trial]['start_date']\n",
    "    cur_start_date = datetime.strptime(cur_start_date, '%Y-%m-%d')\n",
    "    competing_dict[each_trial] = {}\n",
    "    for each_npi in npi2trial:\n",
    "        competing_dict[each_trial][each_npi] = 0\n",
    "    for each_npi in trial2npi[each_trial]:\n",
    "        for each_trial2 in npi2trial[each_npi]:\n",
    "            compete_trial_end_date = trial_info[each_trial2]['completion_date']\n",
    "            if str(compete_trial_end_date) == 'nan':\n",
    "                continue\n",
    "            compete_trial_end_date = datetime.strptime(compete_trial_end_date, '%Y-%m-%d')\n",
    "            if cur_start_date < compete_trial_end_date:\n",
    "                competing_dict[each_trial][each_npi] += 1\n",
    "                cnt += 1\n",
    "    start_date.append(cur_start_date)"
   ]
  },
  {
   "cell_type": "code",
   "execution_count": null,
   "metadata": {},
   "outputs": [],
   "source": [
    "pickle.dump(competing_dict, open('./data/zero_shot/competing_dict.pkl', 'wb'))"
   ]
  }
 ],
 "metadata": {
  "kernelspec": {
   "display_name": "base",
   "language": "python",
   "name": "python3"
  },
  "language_info": {
   "codemirror_mode": {
    "name": "ipython",
    "version": 3
   },
   "file_extension": ".py",
   "mimetype": "text/x-python",
   "name": "python",
   "nbconvert_exporter": "python",
   "pygments_lexer": "ipython3",
   "version": "3.9.13"
  }
 },
 "nbformat": 4,
 "nbformat_minor": 2
}
