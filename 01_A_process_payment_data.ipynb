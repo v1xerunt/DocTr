{
 "cells": [
  {
   "cell_type": "code",
   "execution_count": 1,
   "metadata": {},
   "outputs": [],
   "source": [
    "import pandas as pd\n",
    "import numpy as np\n",
    "import pickle\n",
    "from datetime import datetime"
   ]
  },
  {
   "cell_type": "code",
   "execution_count": null,
   "metadata": {},
   "outputs": [],
   "source": [
    "npi_list = pickle.load(open('./data/filtered_npi.pkl', 'rb'))\n",
    "npi_list = [str(npi) for npi in npi_list]"
   ]
  },
  {
   "cell_type": "code",
   "execution_count": 25,
   "metadata": {},
   "outputs": [
    {
     "name": "stderr",
     "output_type": "stream",
     "text": [
      "C:\\Users\\Junyi\\AppData\\Local\\Temp\\ipykernel_19992\\2857075477.py:20: DtypeWarning: Columns (2,5,8,9,10,11,18,19,20,26,32,33,34,35,36,50,51,67,68,75,77,97,101,104,105,106,107,108,109,110,111,112,113,116,122,128,133,136,137,138,139,140,141,142,143,144,145,148,154,160,165,168,169,170,171,172,173,174,175,176,177,180,186,192,193,219,225,231,237,238,239) have mixed types. Specify dtype option on import or set low_memory=False.\n",
      "  payment = pd.read_csv('D:/Data/payment/Research/OP_DTL_RSRCH_PGYR' + str(i) + '_P01202023.csv', dtype={'Covered_Recipient_NPI':str, 'Principal_Investigator_1_NPI': str, 'Principal_Investigator_2_NPI': str, 'Principal_Investigator_3_NPI': str, 'Principal_Investigator_4_NPI': str, 'Principal_Investigator_5_NPI': str, 'ClinicalTrials_Gov_Identifier': str})\n",
      "C:\\Users\\Junyi\\AppData\\Local\\Temp\\ipykernel_19992\\2857075477.py:20: DtypeWarning: Columns (2,5,8,9,10,11,18,19,20,26,32,33,34,35,36,50,51,67,68,69,72,73,74,75,76,77,78,79,80,81,84,90,96,97,98,101,104,105,106,107,108,109,110,111,112,113,116,122,128,129,130,133,136,137,138,140,141,142,143,144,145,148,154,160,161,165,168,169,170,171,172,173,174,175,176,177,180,186,192,193,194,225,231,237,238,239) have mixed types. Specify dtype option on import or set low_memory=False.\n",
      "  payment = pd.read_csv('D:/Data/payment/Research/OP_DTL_RSRCH_PGYR' + str(i) + '_P01202023.csv', dtype={'Covered_Recipient_NPI':str, 'Principal_Investigator_1_NPI': str, 'Principal_Investigator_2_NPI': str, 'Principal_Investigator_3_NPI': str, 'Principal_Investigator_4_NPI': str, 'Principal_Investigator_5_NPI': str, 'ClinicalTrials_Gov_Identifier': str})\n",
      "C:\\Users\\Junyi\\AppData\\Local\\Temp\\ipykernel_19992\\2857075477.py:20: DtypeWarning: Columns (2,5,8,9,10,11,18,19,20,26,32,33,34,35,36,50,51,67,68,73,75,77,80,82,97,101,104,105,106,107,108,109,110,111,112,113,116,122,128,129,133,136,137,138,140,141,142,143,144,145,148,154,160,165,168,169,170,172,173,174,175,176,177,180,186,192,219,225,227,228,229,230,231,237,238,239) have mixed types. Specify dtype option on import or set low_memory=False.\n",
      "  payment = pd.read_csv('D:/Data/payment/Research/OP_DTL_RSRCH_PGYR' + str(i) + '_P01202023.csv', dtype={'Covered_Recipient_NPI':str, 'Principal_Investigator_1_NPI': str, 'Principal_Investigator_2_NPI': str, 'Principal_Investigator_3_NPI': str, 'Principal_Investigator_4_NPI': str, 'Principal_Investigator_5_NPI': str, 'ClinicalTrials_Gov_Identifier': str})\n",
      "C:\\Users\\Junyi\\AppData\\Local\\Temp\\ipykernel_19992\\2857075477.py:20: DtypeWarning: Columns (2,5,8,9,10,11,18,19,20,26,32,33,34,35,50,51,67,68,73,75,77,80,97,98,101,104,105,106,107,108,109,110,111,112,113,116,122,128,129,133,136,137,138,140,141,142,143,144,145,148,154,160,165,168,169,170,172,174,175,177,180,186,192,225,231,237,238,239,240,241) have mixed types. Specify dtype option on import or set low_memory=False.\n",
      "  payment = pd.read_csv('D:/Data/payment/Research/OP_DTL_RSRCH_PGYR' + str(i) + '_P01202023.csv', dtype={'Covered_Recipient_NPI':str, 'Principal_Investigator_1_NPI': str, 'Principal_Investigator_2_NPI': str, 'Principal_Investigator_3_NPI': str, 'Principal_Investigator_4_NPI': str, 'Principal_Investigator_5_NPI': str, 'ClinicalTrials_Gov_Identifier': str})\n",
      "C:\\Users\\Junyi\\AppData\\Local\\Temp\\ipykernel_19992\\2857075477.py:20: DtypeWarning: Columns (2,5,8,9,10,11,18,19,20,26,32,33,34,35,36,50,51,67,68,75,77,80,97,98,99,101,104,105,106,107,108,109,110,111,112,113,116,122,128,133,136,137,138,140,141,142,143,144,145,148,154,160,161,165,168,169,170,172,173,174,175,176,177,180,186,192,193,208,214,220,231,237,238,239) have mixed types. Specify dtype option on import or set low_memory=False.\n",
      "  payment = pd.read_csv('D:/Data/payment/Research/OP_DTL_RSRCH_PGYR' + str(i) + '_P01202023.csv', dtype={'Covered_Recipient_NPI':str, 'Principal_Investigator_1_NPI': str, 'Principal_Investigator_2_NPI': str, 'Principal_Investigator_3_NPI': str, 'Principal_Investigator_4_NPI': str, 'Principal_Investigator_5_NPI': str, 'ClinicalTrials_Gov_Identifier': str})\n"
     ]
    }
   ],
   "source": [
    "data_dict = {}\n",
    "'''\n",
    "    Structure of data_dict:\n",
    "    Key: Trial NCTID\n",
    "    Value: {\n",
    "        [\n",
    "            {\n",
    "                'NPI': Amount, ...\n",
    "            },\n",
    "            {\n",
    "                'Hospital ID': {NPI: Amount, ...}\n",
    "            },\n",
    "            {\n",
    "                'Entity name': {NPI: Amount, ...}\n",
    "            }\n",
    "        ]\n",
    "'''\n",
    "\n",
    "for i in range(2017, 2022):\n",
    "    payment = pd.read_csv('D:/Data/payment/Research/OP_DTL_RSRCH_PGYR' + str(i) + '_P01202023.csv', dtype={'Covered_Recipient_NPI':str, 'Principal_Investigator_1_NPI': str, 'Principal_Investigator_2_NPI': str, 'Principal_Investigator_3_NPI': str, 'Principal_Investigator_4_NPI': str, 'Principal_Investigator_5_NPI': str, 'ClinicalTrials_Gov_Identifier': str})\n",
    "\n",
    "    payment = payment[(payment['Total_Amount_of_Payment_USDollars'] > 0) & payment['ClinicalTrials_Gov_Identifier'].notna()]\n",
    "    institution_payment = payment[(payment['Principal_Investigator_1_NPI'].isin(npi_list) | payment['Principal_Investigator_2_NPI'].isin(npi_list) | payment['Principal_Investigator_3_NPI'].isin(npi_list) | payment['Principal_Investigator_4_NPI'].isin(npi_list) | payment['Principal_Investigator_5_NPI'].isin(npi_list)) & payment['Teaching_Hospital_ID'].notnull() & payment['Noncovered_Recipient_Entity_Name'].isnull()]\n",
    "    entity_payment = payment[(payment['Principal_Investigator_1_NPI'].isin(npi_list) | payment['Principal_Investigator_2_NPI'].isin(npi_list) | payment['Principal_Investigator_3_NPI'].isin(npi_list) | payment['Principal_Investigator_4_NPI'].isin(npi_list) | payment['Principal_Investigator_5_NPI'].isin(npi_list)) & payment['Noncovered_Recipient_Entity_Name'].notnull() & payment['Teaching_Hospital_ID'].isnull()]\n",
    "    individual_payment = payment[payment['Covered_Recipient_NPI'].isin(npi_list)]\n",
    "\n",
    "    for idx, row in individual_payment.iterrows():\n",
    "        cur_nct = row['ClinicalTrials_Gov_Identifier']\n",
    "        cur_npi = row['Covered_Recipient_NPI']\n",
    "        \n",
    "        if cur_nct not in data_dict:\n",
    "            data_dict[cur_nct] = [{}, {}, {}]\n",
    "        if cur_npi not in data_dict[cur_nct][0]:\n",
    "            data_dict[cur_nct][0][cur_npi] = row['Total_Amount_of_Payment_USDollars']\n",
    "        else:\n",
    "            data_dict[cur_nct][0][cur_npi] += row['Total_Amount_of_Payment_USDollars']\n",
    "\n",
    "    for idx, row in institution_payment.iterrows():\n",
    "        cur_nct = row['ClinicalTrials_Gov_Identifier']\n",
    "        cur_hos = row['Teaching_Hospital_ID']\n",
    "        \n",
    "        if cur_nct not in data_dict:\n",
    "            data_dict[cur_nct] = [{}, {}, {}]\n",
    "        if cur_hos not in data_dict[cur_nct][1]:\n",
    "            data_dict[cur_nct][1][cur_hos] = {}\n",
    "            for i in range(1, 6):\n",
    "                if str(row['Principal_Investigator_' + str(i) + '_NPI']) == 'nan':\n",
    "                    continue\n",
    "                if row['Principal_Investigator_' + str(i) + '_NPI'] in data_dict[cur_nct][1][cur_hos]:\n",
    "                    data_dict[cur_nct][1][cur_hos][row['Principal_Investigator_' + str(i) + '_NPI']] += row['Total_Amount_of_Payment_USDollars']\n",
    "                else:\n",
    "                    data_dict[cur_nct][1][cur_hos][row['Principal_Investigator_' + str(i) +\n",
    "                    '_NPI']] = row['Total_Amount_of_Payment_USDollars']\n",
    "\n",
    "    for idx, row in entity_payment.iterrows():\n",
    "        cur_nct = row['ClinicalTrials_Gov_Identifier']\n",
    "        cur_ent = row['Noncovered_Recipient_Entity_Name']\n",
    "        \n",
    "        if cur_nct not in data_dict:\n",
    "            data_dict[cur_nct] = [{}, {}, {}]\n",
    "        if cur_ent not in data_dict[cur_nct][2]:\n",
    "            data_dict[cur_nct][2][cur_ent] = {}\n",
    "            for i in range(1, 6):\n",
    "                if str(row['Principal_Investigator_' + str(i) + '_NPI']) == 'nan':\n",
    "                    continue\n",
    "                if row['Principal_Investigator_' + str(i) + '_NPI'] in data_dict[cur_nct][2][cur_ent]:\n",
    "                    data_dict[cur_nct][2][cur_ent][row['Principal_Investigator_' + str(i) + '_NPI']] += row['Total_Amount_of_Payment_USDollars']\n",
    "                else:\n",
    "                    data_dict[cur_nct][2][cur_ent][row['Principal_Investigator_' + str(i) + '_NPI']] = row['Total_Amount_of_Payment_USDollars']"
   ]
  },
  {
   "cell_type": "code",
   "execution_count": 26,
   "metadata": {},
   "outputs": [],
   "source": [
    "pickle.dump(data_dict, open('../data/payment_dict.pkl', 'wb'))"
   ]
  },
  {
   "cell_type": "code",
   "execution_count": 6,
   "metadata": {},
   "outputs": [],
   "source": [
    "payment_dict = pickle.load(open('../data/payment_dict.pkl', 'rb'))\n",
    "trial_enroll = pickle.load(open('../data/trial_enroll.pkl', 'rb'))\n",
    "trial2npi = pickle.load(open('../data/trial2npi.pkl', 'rb'))"
   ]
  },
  {
   "cell_type": "code",
   "execution_count": 19,
   "metadata": {},
   "outputs": [],
   "source": [
    "trial2cost = {}\n",
    "for trial in payment_dict:\n",
    "    total_cost = 0\n",
    "    for npi in payment_dict[trial][0]:\n",
    "        total_cost += payment_dict[trial][0][npi]\n",
    "    for hos in payment_dict[trial][1]:\n",
    "        for npi in payment_dict[trial][1][hos]:\n",
    "            total_cost += payment_dict[trial][1][hos][npi]\n",
    "    for ent in payment_dict[trial][2]:\n",
    "        for npi in payment_dict[trial][2][ent]:\n",
    "            total_cost += payment_dict[trial][2][ent][npi]\n",
    "    trial2cost[trial] = total_cost\n",
    "    \n",
    "trial_enroll_clean = {}\n",
    "for trial in trial_enroll:\n",
    "    if trial_enroll[trial] == '0' or trial_enroll[trial] == None:\n",
    "        continue\n",
    "    trial_enroll_clean[trial] = int(trial_enroll[trial])\n",
    "    \n",
    "npi2cost = {}\n",
    "for trial in payment_dict:\n",
    "    if trial not in trial_enroll_clean or int(trial_enroll_clean[trial]) == 0:\n",
    "        continue\n",
    "    for npi in payment_dict[trial][0]:\n",
    "        if npi not in npi2cost:\n",
    "            npi2cost[npi] = []\n",
    "        npi2cost[npi].append(payment_dict[trial][0][npi] / int(trial_enroll_clean[trial]))\n",
    "    for hos in payment_dict[trial][1]:\n",
    "        for npi in payment_dict[trial][1][hos]:\n",
    "            if npi not in npi2cost:\n",
    "                npi2cost[npi] = []\n",
    "            npi2cost[npi].append(payment_dict[trial][1][hos][npi] / int(trial_enroll_clean[trial]))\n",
    "    for ent in payment_dict[trial][2]:\n",
    "        for npi in payment_dict[trial][2][ent]:\n",
    "            if npi not in npi2cost:\n",
    "                npi2cost[npi] = []\n",
    "            npi2cost[npi].append(payment_dict[trial][2][ent][npi] / int(trial_enroll_clean[trial]))\n",
    "for npi in npi2cost:\n",
    "    npi2cost[npi] = np.mean(npi2cost[npi])\n",
    "    \n",
    "npi2cost_all = {}\n",
    "for trial in payment_dict:\n",
    "    if trial not in trial_enroll_clean or int(trial_enroll_clean[trial]) == 0:\n",
    "        continue\n",
    "    for npi in payment_dict[trial][0]:\n",
    "        if npi not in npi2cost_all:\n",
    "            npi2cost_all[npi] = []\n",
    "        npi2cost_all[npi].append(payment_dict[trial][0][npi])\n",
    "    # for hos in payment_dict[trial][1]:\n",
    "    #     for npi in payment_dict[trial][1][hos]:\n",
    "    #         if npi not in npi2cost_all:\n",
    "    #             npi2cost_all[npi] = []\n",
    "    #         npi2cost_all[npi].append(payment_dict[trial][1][hos][npi])\n",
    "    # for ent in payment_dict[trial][2]:\n",
    "    #     for npi in payment_dict[trial][2][ent]:\n",
    "    #         if npi not in npi2cost_all:\n",
    "    #             npi2cost_all[npi] = []\n",
    "    \n",
    "    #         npi2cost_all[npi].append(payment_dict[trial][2][ent][npi])\n",
    "for npi in npi2cost_all:\n",
    "    cur_cost = npi2cost_all[npi]\n",
    "    # Mean of 20% - 80% quantile\n",
    "    cur_cost = sorted(cur_cost)\n",
    "    top_idx = int(len(cur_cost) * 0.2)\n",
    "    bot_idx = int(len(cur_cost) * 0.8)\n",
    "    if top_idx == bot_idx:\n",
    "        npi2cost_all[npi] = np.mean(cur_cost)\n",
    "    else:\n",
    "        npi2cost_all[npi] = np.mean(cur_cost[top_idx:bot_idx])"
   ]
  },
  {
   "cell_type": "code",
   "execution_count": 20,
   "metadata": {},
   "outputs": [],
   "source": [
    "pickle.dump(npi2cost, open('../data/npi2cost.pkl', 'wb'))\n",
    "pickle.dump(trial2cost, open('../data/trial2cost.pkl', 'wb'))\n",
    "pickle.dump(trial_enroll_clean, open('../data/trial_enroll_clean.pkl', 'wb'))"
   ]
  },
  {
   "cell_type": "code",
   "execution_count": 21,
   "metadata": {},
   "outputs": [],
   "source": [
    "pickle.dump(npi2cost_all, open('../data/npi2cost_all.pkl', 'wb'))"
   ]
  },
  {
   "cell_type": "code",
   "execution_count": 13,
   "metadata": {},
   "outputs": [],
   "source": [
    "trial2ratio = {}\n",
    "for trial in payment_dict:\n",
    "    if trial not in trial_enroll_clean or int(trial_enroll_clean[trial]) == 0:\n",
    "        continue\n",
    "    trial2ratio[trial] = {}\n",
    "    for npi in payment_dict[trial][0]:\n",
    "        trial2ratio[trial][npi] = payment_dict[trial][0][npi] / trial2cost[trial]\n",
    "    for hos in payment_dict[trial][1]:\n",
    "        for npi in payment_dict[trial][1][hos]:\n",
    "            trial2ratio[trial][npi] = payment_dict[trial][1][hos][npi]  / trial2cost[trial]\n",
    "    for ent in payment_dict[trial][2]:\n",
    "        for npi in payment_dict[trial][2][ent]:\n",
    "            trial2ratio[trial][npi] = payment_dict[trial][2][ent][npi]  / trial2cost[trial]"
   ]
  },
  {
   "cell_type": "code",
   "execution_count": 15,
   "metadata": {},
   "outputs": [],
   "source": [
    "pickle.dump(trial2ratio, open('../data/trial2ratio.pkl', 'wb'))"
   ]
  },
  {
   "cell_type": "code",
   "execution_count": null,
   "metadata": {},
   "outputs": [],
   "source": []
  }
 ],
 "metadata": {
  "kernelspec": {
   "display_name": "base",
   "language": "python",
   "name": "python3"
  },
  "language_info": {
   "codemirror_mode": {
    "name": "ipython",
    "version": 3
   },
   "file_extension": ".py",
   "mimetype": "text/x-python",
   "name": "python",
   "nbconvert_exporter": "python",
   "pygments_lexer": "ipython3",
   "version": "3.9.13"
  },
  "orig_nbformat": 4
 },
 "nbformat": 4,
 "nbformat_minor": 2
}
