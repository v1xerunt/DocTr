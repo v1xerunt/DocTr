{
 "cells": [
  {
   "cell_type": "code",
   "execution_count": null,
   "metadata": {},
   "outputs": [],
   "source": [
    "import numpy as np\n",
    "import pandas as pd\n",
    "import numpy as np\n",
    "from numpy import dot\n",
    "from numpy.linalg import norm\n",
    "from tqdm import tqdm\n",
    "from transformers import pipeline, AutoTokenizer, AutoModelForCausalLM, AutoModel\n",
    "import pickle\n",
    "import pyotp"
   ]
  },
  {
   "cell_type": "code",
   "execution_count": null,
   "metadata": {},
   "outputs": [],
   "source": [
    "trial_dict = pickle.load(open('./data/trial_info.pkl', 'rb'))\n",
    "icd_list = pickle.load(open('./data/icd_list.pkl', 'rb'))"
   ]
  },
  {
   "cell_type": "code",
   "execution_count": 3,
   "metadata": {},
   "outputs": [
    {
     "data": {
      "text/plain": [
       "{'start_date': '1998-03-01',\n",
       " 'completion_date': nan,\n",
       " 'condition': ['G20'],\n",
       " 'summary': \" This study will determine whether glucose facilitates memory in healthy elderly people and those with Parkinson's disease. \",\n",
       " 'criteria': \"\\n        Inclusion Criteria:\\r\\n\\r\\n          -  Three groups of subjects are eligible for this study: Healthy young adults between\\r\\n             ages 18 and 30; Healthy elderly adults between ages 60 and 90; AND Anyone diagnosed\\r\\n             with Parkinson's disease\\r\\n\\r\\n        Exclusion Criteria:\\r\\n\\r\\n          -  Prior surgery to remove part of the stomach\\r\\n\\r\\n          -  Diabetes, Addison's, or Cushing's diseases\\r\\n      \"}"
      ]
     },
     "execution_count": 3,
     "metadata": {},
     "output_type": "execute_result"
    }
   ],
   "source": [
    "trial_dict['NCT00004451']"
   ]
  },
  {
   "cell_type": "code",
   "execution_count": 7,
   "metadata": {},
   "outputs": [],
   "source": [
    "trial_condition = {}\n",
    "for each in trial_dict:\n",
    "    cur_cond = np.zeros(len(icd_list))\n",
    "    for each_cond in trial_dict[each]['condition']:\n",
    "        cur_name = each_cond[:3]\n",
    "        if cur_name not in icd_list:\n",
    "            continue\n",
    "        cur_cond[icd_list.index(cur_name)] = 1\n",
    "    trial_condition[each] = cur_cond"
   ]
  },
  {
   "cell_type": "code",
   "execution_count": 10,
   "metadata": {},
   "outputs": [
    {
     "name": "stderr",
     "output_type": "stream",
     "text": [
      "Downloading (…)lve/main/config.json: 100%|██████████| 466/466 [00:00<00:00, 236kB/s]\n",
      "c:\\Users\\Junyi\\anaconda3\\lib\\site-packages\\huggingface_hub\\file_download.py:133: UserWarning: `huggingface_hub` cache-system uses symlinks by default to efficiently store duplicated files but your machine does not support them in C:\\Users\\Junyi\\.cache\\huggingface\\hub. Caching files will still work but in a degraded version that might require more space on your disk. This warning can be disabled by setting the `HF_HUB_DISABLE_SYMLINKS_WARNING` environment variable. For more details, see https://huggingface.co/docs/huggingface_hub/how-to-cache#limitations.\n",
      "To support symlinks on Windows, you either need to activate Developer Mode or to run Python as an administrator. In order to see activate developer mode, see this article: https://docs.microsoft.com/en-us/windows/apps/get-started/enable-your-device-for-development\n",
      "  warnings.warn(message)\n",
      "Downloading pytorch_model.bin: 100%|██████████| 542M/542M [00:16<00:00, 32.0MB/s] \n",
      "Some weights of the model checkpoint at medicalai/ClinicalBERT were not used when initializing DistilBertModel: ['vocab_layer_norm.weight', 'vocab_projector.bias', 'vocab_layer_norm.bias', 'vocab_transform.bias', 'vocab_transform.weight', 'vocab_projector.weight']\n",
      "- This IS expected if you are initializing DistilBertModel from the checkpoint of a model trained on another task or with another architecture (e.g. initializing a BertForSequenceClassification model from a BertForPreTraining model).\n",
      "- This IS NOT expected if you are initializing DistilBertModel from the checkpoint of a model that you expect to be exactly identical (initializing a BertForSequenceClassification model from a BertForSequenceClassification model).\n",
      "Downloading (…)okenizer_config.json: 100%|██████████| 62.0/62.0 [00:00<00:00, 17.9kB/s]\n",
      "Downloading (…)solve/main/vocab.txt: 100%|██████████| 996k/996k [00:00<00:00, 3.23MB/s]\n",
      "Downloading (…)cial_tokens_map.json: 100%|██████████| 112/112 [00:00<00:00, 56.2kB/s]\n"
     ]
    }
   ],
   "source": [
    "trial_summary = {}\n",
    "model = AutoModel.from_pretrained(\"medicalai/ClinicalBERT\", trust_remote_code=True)\n",
    "tokenizer = AutoTokenizer.from_pretrained(\"medicalai/ClinicalBERT\", trust_remote_code=True, model_max_length=512, truncation=True, max_length=512)\n",
    "extractor = pipeline(model=model, tokenizer=tokenizer, task=\"feature-extraction\")\n",
    "for each in trial_dict:\n",
    "    cur_sum = trial_dict[each]['summary']\n",
    "    cur_embd = extractor(cur_sum, truncation=True, max_length=512)\n",
    "    \n",
    "    # Generate the sentence embedding\n",
    "    cur_embd = np.array(cur_embd).squeeze().mean(0)\n",
    "    trial_summary[each] = cur_embd"
   ]
  },
  {
   "cell_type": "code",
   "execution_count": null,
   "metadata": {},
   "outputs": [],
   "source": [
    "pickle.dump(trial_condition, open('./data/trial_condition.pkl', 'wb'))\n",
    "pickle.dump(trial_summary, open('./data/trial_summary.pkl', 'wb'))"
   ]
  },
  {
   "cell_type": "code",
   "execution_count": null,
   "metadata": {},
   "outputs": [],
   "source": []
  }
 ],
 "metadata": {
  "kernelspec": {
   "display_name": "base",
   "language": "python",
   "name": "python3"
  },
  "language_info": {
   "codemirror_mode": {
    "name": "ipython",
    "version": 3
   },
   "file_extension": ".py",
   "mimetype": "text/x-python",
   "name": "python",
   "nbconvert_exporter": "python",
   "pygments_lexer": "ipython3",
   "version": "3.9.13"
  },
  "orig_nbformat": 4
 },
 "nbformat": 4,
 "nbformat_minor": 2
}
