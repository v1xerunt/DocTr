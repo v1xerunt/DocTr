{
 "cells": [
  {
   "cell_type": "code",
   "execution_count": 1,
   "metadata": {},
   "outputs": [],
   "source": [
    "import pandas as pd\n",
    "import numpy as np\n",
    "import pickle\n",
    "from tqdm import tqdm"
   ]
  },
  {
   "cell_type": "code",
   "execution_count": null,
   "metadata": {},
   "outputs": [
    {
     "name": "stderr",
     "output_type": "stream",
     "text": [
      "100%|██████████| 4254/4254 [00:00<00:00, 109077.49it/s]\n"
     ]
    }
   ],
   "source": [
    "payment = pickle.load(open('./data/payment_dict.pkl', 'rb'))\n",
    "trial_info = pickle.load(open('./data/trial_info.pkl', 'rb'))\n",
    "trial2pool = pickle.load(open('./data/trial2pool.pkl', 'rb'))\n",
    "npi_codes = pickle.load(open('./data/npi_codes.pkl', 'rb'))\n",
    "\n",
    "trial_list = list(trial2pool.keys())\n",
    "\n",
    "# Sort the trial list by the trial start date\n",
    "trial_list.sort(key=lambda x: trial_info[x]['start_date'])\n",
    "trial2idx = {trial_list[i]: i for i in range(len(trial_list))}\n",
    "\n",
    "npi_list = set()\n",
    "npi_code_set = set([each_key for each_key in npi_codes.keys()])\n",
    "trial2npi = {}\n",
    "for each_trial in tqdm(trial_list):\n",
    "    cur_list = set(payment[each_trial][0].keys()).intersection(npi_code_set)\n",
    "    for each_hos in payment[each_trial][1]:\n",
    "        cur_list.update(set(payment[each_trial][1][each_hos].keys()).intersection(npi_code_set))\n",
    "    for each_ins in payment[each_trial][2]:\n",
    "        cur_list.update(set(payment[each_trial][2][each_ins].keys()).intersection(npi_code_set))\n",
    "    trial2npi[each_trial] = list(cur_list)\n",
    "    npi_list.update(cur_list)\n",
    "npi_list = list(npi_list)\n",
    "npi_list.sort()\n",
    "npi2idx = {npi_list[i]: i for i in range(len(npi_list))}\n"
   ]
  },
  {
   "cell_type": "code",
   "execution_count": 3,
   "metadata": {},
   "outputs": [],
   "source": [
    "npi2trial = {}\n",
    "for each_trial in trial2npi:\n",
    "    for each_npi in trial2npi[each_trial]:\n",
    "        if each_npi not in npi2trial:\n",
    "            npi2trial[each_npi] = []\n",
    "        npi2trial[each_npi].append(each_trial)\n"
   ]
  },
  {
   "cell_type": "code",
   "execution_count": null,
   "metadata": {},
   "outputs": [],
   "source": [
    "pickle.dump(trial2idx, open('./data/trial2idx.pkl', 'wb'))\n",
    "pickle.dump(npi2idx, open('./data/npi2idx.pkl', 'wb'))\n",
    "pickle.dump(trial2npi, open('./data/trial2npi.pkl', 'wb'))\n",
    "pickle.dump(trial_list, open('./data/trial_list.pkl', 'wb'))\n",
    "pickle.dump(npi2trial, open('./data/npi2trial.pkl', 'wb'))"
   ]
  },
  {
   "cell_type": "code",
   "execution_count": 4,
   "metadata": {},
   "outputs": [
    {
     "data": {
      "text/plain": [
       "['NCT02116361',\n",
       " 'NCT02234583',\n",
       " 'NCT02614196',\n",
       " 'NCT02717195',\n",
       " 'NCT02605174',\n",
       " 'NCT02892422',\n",
       " 'NCT03018340',\n",
       " 'NCT03182920',\n",
       " 'NCT04092686',\n",
       " 'NCT04109950']"
      ]
     },
     "execution_count": 4,
     "metadata": {},
     "output_type": "execute_result"
    }
   ],
   "source": [
    "npi2trial['1114973203']"
   ]
  },
  {
   "cell_type": "code",
   "execution_count": null,
   "metadata": {},
   "outputs": [],
   "source": []
  }
 ],
 "metadata": {
  "kernelspec": {
   "display_name": "base",
   "language": "python",
   "name": "python3"
  },
  "language_info": {
   "codemirror_mode": {
    "name": "ipython",
    "version": 3
   },
   "file_extension": ".py",
   "mimetype": "text/x-python",
   "name": "python",
   "nbconvert_exporter": "python",
   "pygments_lexer": "ipython3",
   "version": "3.9.13"
  },
  "orig_nbformat": 4
 },
 "nbformat": 4,
 "nbformat_minor": 2
}
