{
 "cells": [
  {
   "cell_type": "code",
   "execution_count": 1,
   "metadata": {},
   "outputs": [],
   "source": [
    "import pandas as pd\n",
    "import numpy as np"
   ]
  },
  {
   "cell_type": "code",
   "execution_count": null,
   "metadata": {},
   "outputs": [],
   "source": [
    "fips_data = pd.read_csv('./data/counties.csv')\n",
    "zip_data = pd.read_csv('./data/uszips.csv')\n",
    "\n",
    "zip2fips = {}\n",
    "for idx, row in zip_data.iterrows():\n",
    "    zip2fips[row['zip']] = row['county_fips']\n",
    "fips2name = {}\n",
    "for idx, row in zip_data.iterrows():\n",
    "    fips2name[row['county_fips']] = '%s, %s'%(row['county_name'], row['state_name'])\n",
    "fips2state = {}\n",
    "for idx, row in zip_data.iterrows():\n",
    "    fips2state[row['county_fips']] = '%s'%(row['state_name'])"
   ]
  },
  {
   "cell_type": "code",
   "execution_count": 3,
   "metadata": {},
   "outputs": [
    {
     "name": "stdout",
     "output_type": "stream",
     "text": [
      "Index(['FIPS', 'State', 'Area_Name', 'Rural-urban_Continuum Code_2013',\n",
      "       'Urban_Influence_Code_2013', 'Economic_typology_2015',\n",
      "       'POP_ESTIMATE_2018', 'N_POP_CHG_2018', 'Births_2018', 'Deaths_2018',\n",
      "       ...\n",
      "       'Total number of UCR (Uniform Crime Report) Index crimes excluding arson.',\n",
      "       'Total number of UCR (Uniform Crime Report) index crimes reported including arson',\n",
      "       'MURDER', 'RAPE', 'ROBBERY', 'Number of AGGRAVATED ASSAULTS', 'BURGLRY',\n",
      "       'LARCENY', 'MOTOR VEHICLE THEFTS', 'ARSON'],\n",
      "      dtype='object', length=347)\n"
     ]
    }
   ],
   "source": [
    "print(fips_data.columns)"
   ]
  },
  {
   "cell_type": "code",
   "execution_count": 14,
   "metadata": {},
   "outputs": [],
   "source": [
    "# Race ratio in the fips data\n",
    "race_cols = ['WA_MALE', 'WA_FEMALE', 'BA_MALE', 'BA_FEMALE', 'IA_MALE', 'IA_FEMALE', 'AA_MALE', 'AA_FEMALE', 'NA_MALE', 'NA_FEMALE']\n",
    "\n",
    "fips2demo = {}\n",
    "for idx, row in fips_data.iterrows():\n",
    "    fips = row['FIPS']\n",
    "    if pd.isna(row['TOT_FEMALE']):\n",
    "        continue\n",
    "    fips2demo[fips] = {}\n",
    "    fips2demo[fips]['white'] = row['WA_MALE'] + row['WA_FEMALE']\n",
    "    fips2demo[fips]['black'] = row['BA_MALE'] + row['BA_FEMALE']\n",
    "    fips2demo[fips]['indian'] = row['IA_MALE'] + row['IA_FEMALE']\n",
    "    fips2demo[fips]['asian'] = row['AA_MALE'] + row['AA_FEMALE']\n",
    "    fips2demo[fips]['native'] = row['NA_MALE'] + row['NA_FEMALE']\n",
    "    \n",
    "    fips2demo[fips]['population'] = row['TOT_MALE'] + row['TOT_FEMALE']\n",
    "    \n",
    "    fips2demo[fips]['male'] = row['TOT_MALE']\n",
    "    fips2demo[fips]['female'] = row['TOT_FEMALE']\n",
    "    \n",
    "    fips2demo[fips]['nonhis'] = row['NH_MALE'] + row['NH_FEMALE']\n",
    "    fips2demo[fips]['his'] = row['H_MALE'] + row['H_FEMALE']\n",
    "  \n"
   ]
  },
  {
   "cell_type": "code",
   "execution_count": 15,
   "metadata": {},
   "outputs": [
    {
     "name": "stdout",
     "output_type": "stream",
     "text": [
      "{'gender': [0.5011467794435968, 0.4988532205564033], 'race': [0.8446502328745275, 0.09343970569296889, 0.02353693830723962, 0.015703300379485082, 0.0014150119541177938], 'ethnicity': [0.9036306149630053, 0.09636938503699233]}\n"
     ]
    }
   ],
   "source": [
    "national_average = {'gender': [0, 0], 'race': [0, 0, 0, 0, 0], 'ethnicity': [0, 0]}\n",
    "total_fips = len(fips2demo)\n",
    "\n",
    "gender_ratio_sum = [0, 0]  # [male, female]\n",
    "race_ratio_sum = [0, 0, 0, 0, 0]  # [white, black, indian, asian, native]\n",
    "ethnicity_ratio_sum = [0, 0]  # [nonhis, his]\n",
    "\n",
    "for fips in fips2demo:\n",
    "    # Calculate gender ratios\n",
    "    male_ratio = fips2demo[fips]['male'] / fips2demo[fips]['population']\n",
    "    female_ratio = fips2demo[fips]['female'] / fips2demo[fips]['population']\n",
    "    gender_ratio_sum[0] += male_ratio\n",
    "    gender_ratio_sum[1] += female_ratio\n",
    "\n",
    "    # Calculate race ratios\n",
    "    white_ratio = fips2demo[fips]['white'] / fips2demo[fips]['population']\n",
    "    black_ratio = fips2demo[fips]['black'] / fips2demo[fips]['population']\n",
    "    indian_ratio = fips2demo[fips]['indian'] / fips2demo[fips]['population']\n",
    "    asian_ratio = fips2demo[fips]['asian'] / fips2demo[fips]['population']\n",
    "    native_ratio = fips2demo[fips]['native'] / fips2demo[fips]['population']\n",
    "    race_ratio_sum[0] += white_ratio\n",
    "    race_ratio_sum[1] += black_ratio\n",
    "    race_ratio_sum[2] += indian_ratio\n",
    "    race_ratio_sum[3] += asian_ratio\n",
    "    race_ratio_sum[4] += native_ratio\n",
    "\n",
    "    # Calculate ethnicity ratios\n",
    "    nonhis_ratio = fips2demo[fips]['nonhis'] / fips2demo[fips]['population']\n",
    "    his_ratio = fips2demo[fips]['his'] / fips2demo[fips]['population']\n",
    "    ethnicity_ratio_sum[0] += nonhis_ratio\n",
    "    ethnicity_ratio_sum[1] += his_ratio\n",
    "\n",
    "# Calculate national averages\n",
    "national_average['gender'][0] = gender_ratio_sum[0] / total_fips  # Male\n",
    "national_average['gender'][1] = gender_ratio_sum[1] / total_fips  # Female\n",
    "\n",
    "national_average['race'][0] = race_ratio_sum[0] / total_fips  # White\n",
    "national_average['race'][1] = race_ratio_sum[1] / total_fips  # Black\n",
    "national_average['race'][2] = race_ratio_sum[2] / total_fips  # Indian\n",
    "national_average['race'][3] = race_ratio_sum[3] / total_fips  # Asian\n",
    "national_average['race'][4] = race_ratio_sum[4] / total_fips  # Native\n",
    "\n",
    "national_average['ethnicity'][0] = ethnicity_ratio_sum[0] / total_fips  # Non-Hispanic\n",
    "national_average['ethnicity'][1] = ethnicity_ratio_sum[1] / total_fips  # Hispanic\n",
    "\n",
    "print(national_average)\n",
    "fips2demo['national_average'] = national_average\n",
    "\n",
    "\n",
    "for fips in fips2demo:\n",
    "    # Convert to percentage\n",
    "    if fips == 'national_average':\n",
    "        continue\n",
    "    fips2demo[fips]['white'] /= fips2demo[fips]['population']\n",
    "    fips2demo[fips]['black'] /= fips2demo[fips]['population']\n",
    "    fips2demo[fips]['indian'] /= fips2demo[fips]['population']\n",
    "    fips2demo[fips]['asian'] /= fips2demo[fips]['population']\n",
    "    fips2demo[fips]['native'] /= fips2demo[fips]['population']\n",
    "    \n",
    "    fips2demo[fips]['male'] /= fips2demo[fips]['population']\n",
    "    fips2demo[fips]['female'] /= fips2demo[fips]['population']\n",
    "    \n",
    "    fips2demo[fips]['nonhis'] /= fips2demo[fips]['population']\n",
    "    fips2demo[fips]['his'] /= fips2demo[fips]['population']"
   ]
  },
  {
   "cell_type": "code",
   "execution_count": null,
   "metadata": {},
   "outputs": [],
   "source": []
  },
  {
   "cell_type": "code",
   "execution_count": null,
   "metadata": {},
   "outputs": [],
   "source": [
    "import pickle\n",
    "pickle.dump(fips2demo, open('./data/fips2demo.pkl', 'wb'))\n",
    "pickle.dump(fips2name, open('./data/fips2name.pkl', 'wb'))\n",
    "pickle.dump(fips2state, open('./data/fips2state.pkl', 'wb'))\n",
    "pickle.dump(zip2fips, open('./data/zip2fips.pkl', 'wb'))"
   ]
  },
  {
   "cell_type": "code",
   "execution_count": null,
   "metadata": {},
   "outputs": [],
   "source": []
  }
 ],
 "metadata": {
  "kernelspec": {
   "display_name": "base",
   "language": "python",
   "name": "python3"
  },
  "language_info": {
   "codemirror_mode": {
    "name": "ipython",
    "version": 3
   },
   "file_extension": ".py",
   "mimetype": "text/x-python",
   "name": "python",
   "nbconvert_exporter": "python",
   "pygments_lexer": "ipython3",
   "version": "3.9.13"
  }
 },
 "nbformat": 4,
 "nbformat_minor": 2
}
